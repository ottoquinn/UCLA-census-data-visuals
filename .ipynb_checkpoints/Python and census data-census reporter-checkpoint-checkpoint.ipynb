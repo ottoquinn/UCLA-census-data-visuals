{
 "cells": [
  {
   "cell_type": "markdown",
   "metadata": {
    "toc": true
   },
   "source": [
    "<h1>Table of Contents<span class=\"tocSkip\"></span></h1>\n",
    "<div class=\"toc\"><ul class=\"toc-item\"><li><span><a href=\"#Take-notice!\" data-toc-modified-id=\"Take-notice!-1\"><span class=\"toc-item-num\">1&nbsp;&nbsp;</span>Take notice!</a></span></li><li><span><a href=\"#Pandas-and-census-data\" data-toc-modified-id=\"Pandas-and-census-data-2\"><span class=\"toc-item-num\">2&nbsp;&nbsp;</span>Pandas and census data</a></span><ul class=\"toc-item\"><li><span><a href=\"#Where-to-get-census-data?\" data-toc-modified-id=\"Where-to-get-census-data?-2.1\"><span class=\"toc-item-num\">2.1&nbsp;&nbsp;</span>Where to get census data?</a></span></li><li><span><a href=\"#The-libraries\" data-toc-modified-id=\"The-libraries-2.2\"><span class=\"toc-item-num\">2.2&nbsp;&nbsp;</span>The libraries</a></span></li><li><span><a href=\"#Importing-data\" data-toc-modified-id=\"Importing-data-2.3\"><span class=\"toc-item-num\">2.3&nbsp;&nbsp;</span>Importing data</a></span></li><li><span><a href=\"#Preliminary-inspection\" data-toc-modified-id=\"Preliminary-inspection-2.4\"><span class=\"toc-item-num\">2.4&nbsp;&nbsp;</span>Preliminary inspection</a></span></li><li><span><a href=\"#Data-types\" data-toc-modified-id=\"Data-types-2.5\"><span class=\"toc-item-num\">2.5&nbsp;&nbsp;</span>Data types</a></span><ul class=\"toc-item\"><li><span><a href=\"#The-FIPS-code\" data-toc-modified-id=\"The-FIPS-code-2.5.1\"><span class=\"toc-item-num\">2.5.1&nbsp;&nbsp;</span>The FIPS code</a></span></li></ul></li><li><span><a href=\"#Delete-county-row\" data-toc-modified-id=\"Delete-county-row-2.6\"><span class=\"toc-item-num\">2.6&nbsp;&nbsp;</span>Delete county row</a></span></li><li><span><a href=\"#The-census-data-dictionary\" data-toc-modified-id=\"The-census-data-dictionary-2.7\"><span class=\"toc-item-num\">2.7&nbsp;&nbsp;</span>The census data dictionary</a></span></li><li><span><a href=\"#Dropping-columns\" data-toc-modified-id=\"Dropping-columns-2.8\"><span class=\"toc-item-num\">2.8&nbsp;&nbsp;</span>Dropping columns</a></span></li><li><span><a href=\"#Renaming-columns\" data-toc-modified-id=\"Renaming-columns-2.9\"><span class=\"toc-item-num\">2.9&nbsp;&nbsp;</span>Renaming columns</a></span></li><li><span><a href=\"#Double-check-your-data-integrity\" data-toc-modified-id=\"Double-check-your-data-integrity-2.10\"><span class=\"toc-item-num\">2.10&nbsp;&nbsp;</span>Double check your data integrity</a></span></li><li><span><a href=\"#Simple-stats-and-plots\" data-toc-modified-id=\"Simple-stats-and-plots-2.11\"><span class=\"toc-item-num\">2.11&nbsp;&nbsp;</span>Simple stats and plots</a></span></li><li><span><a href=\"#Create-your-first-plot\" data-toc-modified-id=\"Create-your-first-plot-2.12\"><span class=\"toc-item-num\">2.12&nbsp;&nbsp;</span>Create your first plot</a></span></li><li><span><a href=\"#Sorting\" data-toc-modified-id=\"Sorting-2.13\"><span class=\"toc-item-num\">2.13&nbsp;&nbsp;</span>Sorting</a></span></li><li><span><a href=\"#Filtering-and-subsetting-data\" data-toc-modified-id=\"Filtering-and-subsetting-data-2.14\"><span class=\"toc-item-num\">2.14&nbsp;&nbsp;</span>Filtering and subsetting data</a></span></li><li><span><a href=\"#Totals-are-great-but-let's-normalize-the-data\" data-toc-modified-id=\"Totals-are-great-but-let's-normalize-the-data-2.15\"><span class=\"toc-item-num\">2.15&nbsp;&nbsp;</span>Totals are great but let's normalize the data</a></span><ul class=\"toc-item\"><li><span><a href=\"#Now-it's-your-turn!\" data-toc-modified-id=\"Now-it's-your-turn!-2.15.1\"><span class=\"toc-item-num\">2.15.1&nbsp;&nbsp;</span>Now it's your turn!</a></span></li></ul></li></ul></li><li><span><a href=\"#Maps!\" data-toc-modified-id=\"Maps!-3\"><span class=\"toc-item-num\">3&nbsp;&nbsp;</span>Maps!</a></span><ul class=\"toc-item\"><li><span><a href=\"#Using-subplots-to-create-multiple-plots\" data-toc-modified-id=\"Using-subplots-to-create-multiple-plots-3.1\"><span class=\"toc-item-num\">3.1&nbsp;&nbsp;</span>Using subplots to create multiple plots</a></span></li><li><span><a href=\"#Additional-mapping-ideas\" data-toc-modified-id=\"Additional-mapping-ideas-3.2\"><span class=\"toc-item-num\">3.2&nbsp;&nbsp;</span>Additional mapping ideas</a></span></li><li><span><a href=\"#Add-a-basemap\" data-toc-modified-id=\"Add-a-basemap-3.3\"><span class=\"toc-item-num\">3.3&nbsp;&nbsp;</span>Add a basemap</a></span><ul class=\"toc-item\"><li><span><a href=\"#Project-to-web-mercator\" data-toc-modified-id=\"Project-to-web-mercator-3.3.1\"><span class=\"toc-item-num\">3.3.1&nbsp;&nbsp;</span>Project to web mercator</a></span></li></ul></li></ul></li></ul></div>"
   ]
  },
  {
   "cell_type": "markdown",
   "metadata": {
    "slideshow": {
     "slide_type": "slide"
    }
   },
   "source": [
    "<div class=\"alert alert-danger\">\n",
    "\n",
    "<h1>Take notice!</h1>\n",
    "<ul>\n",
    "    <li>This class will be recorded</li>\n",
    "</ul>\n",
    "    \n",
    "</div>"
   ]
  },
  {
   "cell_type": "markdown",
   "metadata": {
    "slideshow": {
     "slide_type": "slide"
    }
   },
   "source": [
    "# Pandas and census data\n",
    "Overview for this workshop:\n",
    "\n",
    "- how and where to find and download census data\n",
    "- use `geopandas` library to read a geojson file ([documentation](https://geopandas.org/gallery/index.html))\n",
    "- use `contextily` to add basemaps ([documentation](https://contextily.readthedocs.io/en/latest/intro_guide.html))\n",
    "- renaming columns\n",
    "- normalizing data columns\n",
    "- simple stats\n",
    "- adding basemaps"
   ]
  },
  {
   "cell_type": "markdown",
   "metadata": {
    "slideshow": {
     "slide_type": "slide"
    }
   },
   "source": [
    "## Where to get census data?\n",
    "\n",
    "\n",
    "Well, you have many options, including, getting it directly from the source, the [census bureau website](https://www.census.gov/data.html) itself. We also have, as part of the academic community, a great resource: [Social Explorer](https://www.socialexplorer.com/). With a campus-wide license to have full access to their website, you can download any census variable, that pretty much existed... ever. And, with its easy-to-use user interface, this is a wonderful one-stop shop for your census needs.\n",
    "\n",
    "But for data scientists, I recommend another source: [censusreporter.org](https://censusreporter.org/)\n",
    "\n",
    "<a href=\"https://censusreporter.org\" target=\"_blank\"><img src=\"images/cr.png\"></a>"
   ]
  },
  {
   "cell_type": "markdown",
   "metadata": {
    "slideshow": {
     "slide_type": "slide"
    }
   },
   "source": [
    "## The libraries"
   ]
  },
  {
   "cell_type": "code",
   "execution_count": 1,
   "metadata": {},
   "outputs": [],
   "source": [
    "# to read and visualize spatial data\n",
    "import geopandas as gpd\n",
    "\n",
    "# to provide basemaps \n",
    "import contextily as ctx\n",
    "\n",
    "# to give more power to your figures (plots)\n",
    "import matplotlib.pyplot as plt"
   ]
  },
  {
   "cell_type": "markdown",
   "metadata": {
    "slideshow": {
     "slide_type": "slide"
    }
   },
   "source": [
    "## Importing data\n",
    "\n",
    "In order to work with data in python, we need a library that will let us handle \"spatial data exploration.\" We looked at shapefiles with geopandas last week, and for this lab, we will use it to read and wrangle a [geojson](https://en.wikipedia.org/wiki/GeoJSON) file.\n",
    "\n",
    "Before we continue, let's make a brief detour and find out how geojson files are constructed:\n",
    "\n",
    "- [geojson.io](http://geojson.io/#map=2/20.0/0.0)\n",
    "\n",
    "![geojson](images/geojson.png)"
   ]
  },
  {
   "cell_type": "markdown",
   "metadata": {
    "slideshow": {
     "slide_type": "slide"
    }
   },
   "source": [
    "We make the call to load and read the data that was downloaded from census reporter. Take note at the relative path reference to find the file in your file directory."
   ]
  },
  {
   "cell_type": "code",
   "execution_count": 9,
   "metadata": {
    "scrolled": true
   },
   "outputs": [],
   "source": [
    "# load a data file\n",
    "# note the relative filepath! where is this file located?\n",
    "gdf = gpd.read_file('data/acs2021_5yr_B03002_14000US06037297001.geojson')"
   ]
  },
  {
   "cell_type": "markdown",
   "metadata": {
    "slideshow": {
     "slide_type": "slide"
    }
   },
   "source": [
    "## Preliminary inspection\n",
    "A quick look at the size of the data."
   ]
  },
  {
   "cell_type": "code",
   "execution_count": 10,
   "metadata": {},
   "outputs": [
    {
     "data": {
      "text/plain": [
       "(2499, 45)"
      ]
     },
     "execution_count": 10,
     "metadata": {},
     "output_type": "execute_result"
    }
   ],
   "source": [
    "# get number of rows, columns\n",
    "gdf.shape"
   ]
  },
  {
   "cell_type": "code",
   "execution_count": 11,
   "metadata": {
    "scrolled": true,
    "slideshow": {
     "slide_type": "slide"
    }
   },
   "outputs": [
    {
     "data": {
      "text/html": [
       "<div>\n",
       "<style scoped>\n",
       "    .dataframe tbody tr th:only-of-type {\n",
       "        vertical-align: middle;\n",
       "    }\n",
       "\n",
       "    .dataframe tbody tr th {\n",
       "        vertical-align: top;\n",
       "    }\n",
       "\n",
       "    .dataframe thead th {\n",
       "        text-align: right;\n",
       "    }\n",
       "</style>\n",
       "<table border=\"1\" class=\"dataframe\">\n",
       "  <thead>\n",
       "    <tr style=\"text-align: right;\">\n",
       "      <th></th>\n",
       "      <th>geoid</th>\n",
       "      <th>name</th>\n",
       "      <th>B03002001</th>\n",
       "      <th>B03002001, Error</th>\n",
       "      <th>B03002002</th>\n",
       "      <th>B03002002, Error</th>\n",
       "      <th>B03002003</th>\n",
       "      <th>B03002003, Error</th>\n",
       "      <th>B03002004</th>\n",
       "      <th>B03002004, Error</th>\n",
       "      <th>...</th>\n",
       "      <th>B03002017, Error</th>\n",
       "      <th>B03002018</th>\n",
       "      <th>B03002018, Error</th>\n",
       "      <th>B03002019</th>\n",
       "      <th>B03002019, Error</th>\n",
       "      <th>B03002020</th>\n",
       "      <th>B03002020, Error</th>\n",
       "      <th>B03002021</th>\n",
       "      <th>B03002021, Error</th>\n",
       "      <th>geometry</th>\n",
       "    </tr>\n",
       "  </thead>\n",
       "  <tbody>\n",
       "    <tr>\n",
       "      <th>0</th>\n",
       "      <td>05000US06037</td>\n",
       "      <td>Los Angeles County, CA</td>\n",
       "      <td>10019635.0</td>\n",
       "      <td>0.0</td>\n",
       "      <td>5141016.0</td>\n",
       "      <td>0.0</td>\n",
       "      <td>2550832.0</td>\n",
       "      <td>3019.0</td>\n",
       "      <td>766190.0</td>\n",
       "      <td>3654.0</td>\n",
       "      <td>...</td>\n",
       "      <td>618.0</td>\n",
       "      <td>2158488.0</td>\n",
       "      <td>18277.0</td>\n",
       "      <td>756737.0</td>\n",
       "      <td>13765.0</td>\n",
       "      <td>663549.0</td>\n",
       "      <td>13537.0</td>\n",
       "      <td>93188.0</td>\n",
       "      <td>3534.0</td>\n",
       "      <td>MULTIPOLYGON (((-118.70339 34.16859, -118.7033...</td>\n",
       "    </tr>\n",
       "    <tr>\n",
       "      <th>1</th>\n",
       "      <td>14000US06037101110</td>\n",
       "      <td>Census Tract 1011.10, Los Angeles, CA</td>\n",
       "      <td>3879.0</td>\n",
       "      <td>480.0</td>\n",
       "      <td>2874.0</td>\n",
       "      <td>366.0</td>\n",
       "      <td>2305.0</td>\n",
       "      <td>320.0</td>\n",
       "      <td>11.0</td>\n",
       "      <td>16.0</td>\n",
       "      <td>...</td>\n",
       "      <td>13.0</td>\n",
       "      <td>258.0</td>\n",
       "      <td>192.0</td>\n",
       "      <td>343.0</td>\n",
       "      <td>223.0</td>\n",
       "      <td>263.0</td>\n",
       "      <td>178.0</td>\n",
       "      <td>80.0</td>\n",
       "      <td>126.0</td>\n",
       "      <td>MULTIPOLYGON (((-118.30229 34.25870, -118.3009...</td>\n",
       "    </tr>\n",
       "    <tr>\n",
       "      <th>2</th>\n",
       "      <td>14000US06037101122</td>\n",
       "      <td>Census Tract 1011.22, Los Angeles, CA</td>\n",
       "      <td>4247.0</td>\n",
       "      <td>875.0</td>\n",
       "      <td>3908.0</td>\n",
       "      <td>911.0</td>\n",
       "      <td>2940.0</td>\n",
       "      <td>843.0</td>\n",
       "      <td>99.0</td>\n",
       "      <td>105.0</td>\n",
       "      <td>...</td>\n",
       "      <td>13.0</td>\n",
       "      <td>245.0</td>\n",
       "      <td>198.0</td>\n",
       "      <td>54.0</td>\n",
       "      <td>57.0</td>\n",
       "      <td>50.0</td>\n",
       "      <td>56.0</td>\n",
       "      <td>4.0</td>\n",
       "      <td>6.0</td>\n",
       "      <td>MULTIPOLYGON (((-118.30334 34.27371, -118.3033...</td>\n",
       "    </tr>\n",
       "    <tr>\n",
       "      <th>3</th>\n",
       "      <td>14000US06037101220</td>\n",
       "      <td>Census Tract 1012.20, Los Angeles, CA</td>\n",
       "      <td>3583.0</td>\n",
       "      <td>486.0</td>\n",
       "      <td>1800.0</td>\n",
       "      <td>304.0</td>\n",
       "      <td>1308.0</td>\n",
       "      <td>258.0</td>\n",
       "      <td>8.0</td>\n",
       "      <td>12.0</td>\n",
       "      <td>...</td>\n",
       "      <td>13.0</td>\n",
       "      <td>602.0</td>\n",
       "      <td>364.0</td>\n",
       "      <td>461.0</td>\n",
       "      <td>331.0</td>\n",
       "      <td>430.0</td>\n",
       "      <td>327.0</td>\n",
       "      <td>31.0</td>\n",
       "      <td>35.0</td>\n",
       "      <td>MULTIPOLYGON (((-118.28593 34.25227, -118.2859...</td>\n",
       "    </tr>\n",
       "    <tr>\n",
       "      <th>4</th>\n",
       "      <td>14000US06037101221</td>\n",
       "      <td>Census Tract 1012.21, Los Angeles, CA</td>\n",
       "      <td>3723.0</td>\n",
       "      <td>721.0</td>\n",
       "      <td>2520.0</td>\n",
       "      <td>573.0</td>\n",
       "      <td>2070.0</td>\n",
       "      <td>584.0</td>\n",
       "      <td>97.0</td>\n",
       "      <td>85.0</td>\n",
       "      <td>...</td>\n",
       "      <td>13.0</td>\n",
       "      <td>555.0</td>\n",
       "      <td>344.0</td>\n",
       "      <td>173.0</td>\n",
       "      <td>161.0</td>\n",
       "      <td>173.0</td>\n",
       "      <td>161.0</td>\n",
       "      <td>0.0</td>\n",
       "      <td>13.0</td>\n",
       "      <td>MULTIPOLYGON (((-118.29945 34.25598, -118.2979...</td>\n",
       "    </tr>\n",
       "  </tbody>\n",
       "</table>\n",
       "<p>5 rows × 45 columns</p>\n",
       "</div>"
      ],
      "text/plain": [
       "                geoid                                   name   B03002001  \\\n",
       "0        05000US06037                 Los Angeles County, CA  10019635.0   \n",
       "1  14000US06037101110  Census Tract 1011.10, Los Angeles, CA      3879.0   \n",
       "2  14000US06037101122  Census Tract 1011.22, Los Angeles, CA      4247.0   \n",
       "3  14000US06037101220  Census Tract 1012.20, Los Angeles, CA      3583.0   \n",
       "4  14000US06037101221  Census Tract 1012.21, Los Angeles, CA      3723.0   \n",
       "\n",
       "   B03002001, Error  B03002002  B03002002, Error  B03002003  B03002003, Error  \\\n",
       "0               0.0  5141016.0               0.0  2550832.0            3019.0   \n",
       "1             480.0     2874.0             366.0     2305.0             320.0   \n",
       "2             875.0     3908.0             911.0     2940.0             843.0   \n",
       "3             486.0     1800.0             304.0     1308.0             258.0   \n",
       "4             721.0     2520.0             573.0     2070.0             584.0   \n",
       "\n",
       "   B03002004  B03002004, Error  ...  B03002017, Error  B03002018  \\\n",
       "0   766190.0            3654.0  ...             618.0  2158488.0   \n",
       "1       11.0              16.0  ...              13.0      258.0   \n",
       "2       99.0             105.0  ...              13.0      245.0   \n",
       "3        8.0              12.0  ...              13.0      602.0   \n",
       "4       97.0              85.0  ...              13.0      555.0   \n",
       "\n",
       "   B03002018, Error  B03002019  B03002019, Error  B03002020  B03002020, Error  \\\n",
       "0           18277.0   756737.0           13765.0   663549.0           13537.0   \n",
       "1             192.0      343.0             223.0      263.0             178.0   \n",
       "2             198.0       54.0              57.0       50.0              56.0   \n",
       "3             364.0      461.0             331.0      430.0             327.0   \n",
       "4             344.0      173.0             161.0      173.0             161.0   \n",
       "\n",
       "   B03002021  B03002021, Error  \\\n",
       "0    93188.0            3534.0   \n",
       "1       80.0             126.0   \n",
       "2        4.0               6.0   \n",
       "3       31.0              35.0   \n",
       "4        0.0              13.0   \n",
       "\n",
       "                                            geometry  \n",
       "0  MULTIPOLYGON (((-118.70339 34.16859, -118.7033...  \n",
       "1  MULTIPOLYGON (((-118.30229 34.25870, -118.3009...  \n",
       "2  MULTIPOLYGON (((-118.30334 34.27371, -118.3033...  \n",
       "3  MULTIPOLYGON (((-118.28593 34.25227, -118.2859...  \n",
       "4  MULTIPOLYGON (((-118.29945 34.25598, -118.2979...  \n",
       "\n",
       "[5 rows x 45 columns]"
      ]
     },
     "execution_count": 11,
     "metadata": {},
     "output_type": "execute_result"
    }
   ],
   "source": [
    "# get first 5 rows\n",
    "gdf.head()"
   ]
  },
  {
   "cell_type": "code",
   "execution_count": 12,
   "metadata": {},
   "outputs": [
    {
     "data": {
      "text/html": [
       "<div>\n",
       "<style scoped>\n",
       "    .dataframe tbody tr th:only-of-type {\n",
       "        vertical-align: middle;\n",
       "    }\n",
       "\n",
       "    .dataframe tbody tr th {\n",
       "        vertical-align: top;\n",
       "    }\n",
       "\n",
       "    .dataframe thead th {\n",
       "        text-align: right;\n",
       "    }\n",
       "</style>\n",
       "<table border=\"1\" class=\"dataframe\">\n",
       "  <thead>\n",
       "    <tr style=\"text-align: right;\">\n",
       "      <th></th>\n",
       "      <th>geoid</th>\n",
       "      <th>name</th>\n",
       "      <th>B03002001</th>\n",
       "      <th>B03002001, Error</th>\n",
       "      <th>B03002002</th>\n",
       "      <th>B03002002, Error</th>\n",
       "      <th>B03002003</th>\n",
       "      <th>B03002003, Error</th>\n",
       "      <th>B03002004</th>\n",
       "      <th>B03002004, Error</th>\n",
       "      <th>...</th>\n",
       "      <th>B03002017, Error</th>\n",
       "      <th>B03002018</th>\n",
       "      <th>B03002018, Error</th>\n",
       "      <th>B03002019</th>\n",
       "      <th>B03002019, Error</th>\n",
       "      <th>B03002020</th>\n",
       "      <th>B03002020, Error</th>\n",
       "      <th>B03002021</th>\n",
       "      <th>B03002021, Error</th>\n",
       "      <th>geometry</th>\n",
       "    </tr>\n",
       "  </thead>\n",
       "  <tbody>\n",
       "    <tr>\n",
       "      <th>2026</th>\n",
       "      <td>14000US06037576001</td>\n",
       "      <td>Census Tract 5760.01, Los Angeles, CA</td>\n",
       "      <td>5173.0</td>\n",
       "      <td>580.0</td>\n",
       "      <td>4186.0</td>\n",
       "      <td>571.0</td>\n",
       "      <td>2754.0</td>\n",
       "      <td>416.0</td>\n",
       "      <td>295.0</td>\n",
       "      <td>146.0</td>\n",
       "      <td>...</td>\n",
       "      <td>19.0</td>\n",
       "      <td>224.0</td>\n",
       "      <td>126.0</td>\n",
       "      <td>244.0</td>\n",
       "      <td>122.0</td>\n",
       "      <td>210.0</td>\n",
       "      <td>115.0</td>\n",
       "      <td>34.0</td>\n",
       "      <td>39.0</td>\n",
       "      <td>MULTIPOLYGON (((-118.20624 33.76702, -118.2062...</td>\n",
       "    </tr>\n",
       "  </tbody>\n",
       "</table>\n",
       "<p>1 rows × 45 columns</p>\n",
       "</div>"
      ],
      "text/plain": [
       "                   geoid                                   name  B03002001  \\\n",
       "2026  14000US06037576001  Census Tract 5760.01, Los Angeles, CA     5173.0   \n",
       "\n",
       "      B03002001, Error  B03002002  B03002002, Error  B03002003  \\\n",
       "2026             580.0     4186.0             571.0     2754.0   \n",
       "\n",
       "      B03002003, Error  B03002004  B03002004, Error  ...  B03002017, Error  \\\n",
       "2026             416.0      295.0             146.0  ...              19.0   \n",
       "\n",
       "      B03002018  B03002018, Error  B03002019  B03002019, Error  B03002020  \\\n",
       "2026      224.0             126.0      244.0             122.0      210.0   \n",
       "\n",
       "      B03002020, Error  B03002021  B03002021, Error  \\\n",
       "2026             115.0       34.0              39.0   \n",
       "\n",
       "                                               geometry  \n",
       "2026  MULTIPOLYGON (((-118.20624 33.76702, -118.2062...  \n",
       "\n",
       "[1 rows x 45 columns]"
      ]
     },
     "execution_count": 12,
     "metadata": {},
     "output_type": "execute_result"
    }
   ],
   "source": [
    "# get a random row\n",
    "gdf.sample()"
   ]
  },
  {
   "cell_type": "code",
   "execution_count": 7,
   "metadata": {
    "slideshow": {
     "slide_type": "slide"
    }
   },
   "outputs": [
    {
     "data": {
      "text/plain": [
       "<Axes: >"
      ]
     },
     "execution_count": 7,
     "metadata": {},
     "output_type": "execute_result"
    },
    {
     "data": {
      "image/png": "[encoded data removed]",
      "text/plain": [
       "<Figure size 1000x1000 with 1 Axes>"
      ]
     },
     "metadata": {},
     "output_type": "display_data"
    }
   ],
   "source": [
    "# plot it!\n",
    "gdf.plot(figsize=(10,10))"
   ]
  },
  {
   "cell_type": "code",
   "execution_count": 13,
   "metadata": {},
   "outputs": [
    {
     "data": {
      "text/plain": [
       "<Axes: >"
      ]
     },
     "execution_count": 13,
     "metadata": {},
     "output_type": "execute_result"
    },
    {
     "data": {
      "image/png": "[encoded data removed]",
      "text/plain": [
       "<Figure size 640x480 with 1 Axes>"
      ]
     },
     "metadata": {},
     "output_type": "display_data"
    }
   ],
   "source": [
    "# plot a random row\n",
    "gdf.sample().plot()"
   ]
  },
  {
   "cell_type": "markdown",
   "metadata": {
    "slideshow": {
     "slide_type": "slide"
    }
   },
   "source": [
    "## Data types\n",
    "\n",
    "To get the data types, we will use `.info()`. "
   ]
  },
  {
   "cell_type": "code",
   "execution_count": 14,
   "metadata": {
    "scrolled": true
   },
   "outputs": [
    {
     "name": "stdout",
     "output_type": "stream",
     "text": [
      "<class 'geopandas.geodataframe.GeoDataFrame'>\n",
      "RangeIndex: 2499 entries, 0 to 2498\n",
      "Data columns (total 45 columns):\n",
      " #   Column            Non-Null Count  Dtype   \n",
      "---  ------            --------------  -----   \n",
      " 0   geoid             2499 non-null   object  \n",
      " 1   name              2499 non-null   object  \n",
      " 2   B03002001         2499 non-null   float64 \n",
      " 3   B03002001, Error  2499 non-null   float64 \n",
      " 4   B03002002         2499 non-null   float64 \n",
      " 5   B03002002, Error  2499 non-null   float64 \n",
      " 6   B03002003         2499 non-null   float64 \n",
      " 7   B03002003, Error  2499 non-null   float64 \n",
      " 8   B03002004         2499 non-null   float64 \n",
      " 9   B03002004, Error  2499 non-null   float64 \n",
      " 10  B03002005         2499 non-null   float64 \n",
      " 11  B03002005, Error  2499 non-null   float64 \n",
      " 12  B03002006         2499 non-null   float64 \n",
      " 13  B03002006, Error  2499 non-null   float64 \n",
      " 14  B03002007         2499 non-null   float64 \n",
      " 15  B03002007, Error  2499 non-null   float64 \n",
      " 16  B03002008         2499 non-null   float64 \n",
      " 17  B03002008, Error  2499 non-null   float64 \n",
      " 18  B03002009         2499 non-null   float64 \n",
      " 19  B03002009, Error  2499 non-null   float64 \n",
      " 20  B03002010         2499 non-null   float64 \n",
      " 21  B03002010, Error  2499 non-null   float64 \n",
      " 22  B03002011         2499 non-null   float64 \n",
      " 23  B03002011, Error  2499 non-null   float64 \n",
      " 24  B03002012         2499 non-null   float64 \n",
      " 25  B03002012, Error  2499 non-null   float64 \n",
      " 26  B03002013         2499 non-null   float64 \n",
      " 27  B03002013, Error  2499 non-null   float64 \n",
      " 28  B03002014         2499 non-null   float64 \n",
      " 29  B03002014, Error  2499 non-null   float64 \n",
      " 30  B03002015         2499 non-null   float64 \n",
      " 31  B03002015, Error  2499 non-null   float64 \n",
      " 32  B03002016         2499 non-null   float64 \n",
      " 33  B03002016, Error  2499 non-null   float64 \n",
      " 34  B03002017         2499 non-null   float64 \n",
      " 35  B03002017, Error  2499 non-null   float64 \n",
      " 36  B03002018         2499 non-null   float64 \n",
      " 37  B03002018, Error  2499 non-null   float64 \n",
      " 38  B03002019         2499 non-null   float64 \n",
      " 39  B03002019, Error  2499 non-null   float64 \n",
      " 40  B03002020         2499 non-null   float64 \n",
      " 41  B03002020, Error  2499 non-null   float64 \n",
      " 42  B03002021         2499 non-null   float64 \n",
      " 43  B03002021, Error  2499 non-null   float64 \n",
      " 44  geometry          2499 non-null   geometry\n",
      "dtypes: float64(42), geometry(1), object(2)\n",
      "memory usage: 878.7+ KB\n"
     ]
    }
   ],
   "source": [
    "# look at columns, null values, and the data types\n",
    "gdf.info()"
   ]
  },
  {
   "cell_type": "markdown",
   "metadata": {
    "slideshow": {
     "slide_type": "slide"
    }
   },
   "source": [
    "### The FIPS code\n",
    "What is the geoid? It is called a FIPS code but why is it important?\n",
    "\n",
    "- https://www.census.gov/programs-surveys/geography/guidance/geo-identifiers.html\n",
    "\n",
    "![fips](images/fips.png)"
   ]
  },
  {
   "cell_type": "code",
   "execution_count": 15,
   "metadata": {},
   "outputs": [
    {
     "data": {
      "text/plain": [
       "0          05000US06037\n",
       "1    14000US06037101110\n",
       "2    14000US06037101122\n",
       "3    14000US06037101220\n",
       "4    14000US06037101221\n",
       "Name: geoid, dtype: object"
      ]
     },
     "execution_count": 15,
     "metadata": {},
     "output_type": "execute_result"
    }
   ],
   "source": [
    "# get first five geoid's\n",
    "gdf.geoid.head()"
   ]
  },
  {
   "cell_type": "markdown",
   "metadata": {
    "slideshow": {
     "slide_type": "slide"
    }
   },
   "source": [
    "![fips code](https://learn.arcgis.com/en/related-concepts/GUID-D7AA4FD1-E7FE-49D7-9D11-07915C9ACC68-web.png)\n",
    "\n",
    "[Source: ESRI](https://learn.arcgis.com/en/related-concepts/united-states-census-geography.htm)"
   ]
  },
  {
   "cell_type": "markdown",
   "metadata": {
    "slideshow": {
     "slide_type": "slide"
    }
   },
   "source": [
    "## Delete county row\n",
    "\n",
    "As we have observed, the first row in the data obtained from censusreporter is for the entire county. Keeping this row is problematic, as it represents a data record that is at a different scale. Let's delete it."
   ]
  },
  {
   "cell_type": "markdown",
   "metadata": {},
   "source": [
    "<div class=\"alert alert-danger\">\n",
    "    <b>Important!</b><hr>\n",
    "    Note that any data downloaded from censusreporter will have a \"summary row\" for the entire data.\n",
    "</div>"
   ]
  },
  {
   "cell_type": "code",
   "execution_count": 16,
   "metadata": {
    "slideshow": {
     "slide_type": "slide"
    }
   },
   "outputs": [
    {
     "data": {
      "text/html": [
       "<div>\n",
       "<style scoped>\n",
       "    .dataframe tbody tr th:only-of-type {\n",
       "        vertical-align: middle;\n",
       "    }\n",
       "\n",
       "    .dataframe tbody tr th {\n",
       "        vertical-align: top;\n",
       "    }\n",
       "\n",
       "    .dataframe thead th {\n",
       "        text-align: right;\n",
       "    }\n",
       "</style>\n",
       "<table border=\"1\" class=\"dataframe\">\n",
       "  <thead>\n",
       "    <tr style=\"text-align: right;\">\n",
       "      <th></th>\n",
       "      <th>geoid</th>\n",
       "      <th>name</th>\n",
       "      <th>B03002001</th>\n",
       "      <th>B03002001, Error</th>\n",
       "      <th>B03002002</th>\n",
       "      <th>B03002002, Error</th>\n",
       "      <th>B03002003</th>\n",
       "      <th>B03002003, Error</th>\n",
       "      <th>B03002004</th>\n",
       "      <th>B03002004, Error</th>\n",
       "      <th>...</th>\n",
       "      <th>B03002017, Error</th>\n",
       "      <th>B03002018</th>\n",
       "      <th>B03002018, Error</th>\n",
       "      <th>B03002019</th>\n",
       "      <th>B03002019, Error</th>\n",
       "      <th>B03002020</th>\n",
       "      <th>B03002020, Error</th>\n",
       "      <th>B03002021</th>\n",
       "      <th>B03002021, Error</th>\n",
       "      <th>geometry</th>\n",
       "    </tr>\n",
       "  </thead>\n",
       "  <tbody>\n",
       "    <tr>\n",
       "      <th>0</th>\n",
       "      <td>05000US06037</td>\n",
       "      <td>Los Angeles County, CA</td>\n",
       "      <td>10019635.0</td>\n",
       "      <td>0.0</td>\n",
       "      <td>5141016.0</td>\n",
       "      <td>0.0</td>\n",
       "      <td>2550832.0</td>\n",
       "      <td>3019.0</td>\n",
       "      <td>766190.0</td>\n",
       "      <td>3654.0</td>\n",
       "      <td>...</td>\n",
       "      <td>618.0</td>\n",
       "      <td>2158488.0</td>\n",
       "      <td>18277.0</td>\n",
       "      <td>756737.0</td>\n",
       "      <td>13765.0</td>\n",
       "      <td>663549.0</td>\n",
       "      <td>13537.0</td>\n",
       "      <td>93188.0</td>\n",
       "      <td>3534.0</td>\n",
       "      <td>MULTIPOLYGON (((-118.70339 34.16859, -118.7033...</td>\n",
       "    </tr>\n",
       "    <tr>\n",
       "      <th>1</th>\n",
       "      <td>14000US06037101110</td>\n",
       "      <td>Census Tract 1011.10, Los Angeles, CA</td>\n",
       "      <td>3879.0</td>\n",
       "      <td>480.0</td>\n",
       "      <td>2874.0</td>\n",
       "      <td>366.0</td>\n",
       "      <td>2305.0</td>\n",
       "      <td>320.0</td>\n",
       "      <td>11.0</td>\n",
       "      <td>16.0</td>\n",
       "      <td>...</td>\n",
       "      <td>13.0</td>\n",
       "      <td>258.0</td>\n",
       "      <td>192.0</td>\n",
       "      <td>343.0</td>\n",
       "      <td>223.0</td>\n",
       "      <td>263.0</td>\n",
       "      <td>178.0</td>\n",
       "      <td>80.0</td>\n",
       "      <td>126.0</td>\n",
       "      <td>MULTIPOLYGON (((-118.30229 34.25870, -118.3009...</td>\n",
       "    </tr>\n",
       "    <tr>\n",
       "      <th>2</th>\n",
       "      <td>14000US06037101122</td>\n",
       "      <td>Census Tract 1011.22, Los Angeles, CA</td>\n",
       "      <td>4247.0</td>\n",
       "      <td>875.0</td>\n",
       "      <td>3908.0</td>\n",
       "      <td>911.0</td>\n",
       "      <td>2940.0</td>\n",
       "      <td>843.0</td>\n",
       "      <td>99.0</td>\n",
       "      <td>105.0</td>\n",
       "      <td>...</td>\n",
       "      <td>13.0</td>\n",
       "      <td>245.0</td>\n",
       "      <td>198.0</td>\n",
       "      <td>54.0</td>\n",
       "      <td>57.0</td>\n",
       "      <td>50.0</td>\n",
       "      <td>56.0</td>\n",
       "      <td>4.0</td>\n",
       "      <td>6.0</td>\n",
       "      <td>MULTIPOLYGON (((-118.30334 34.27371, -118.3033...</td>\n",
       "    </tr>\n",
       "    <tr>\n",
       "      <th>3</th>\n",
       "      <td>14000US06037101220</td>\n",
       "      <td>Census Tract 1012.20, Los Angeles, CA</td>\n",
       "      <td>3583.0</td>\n",
       "      <td>486.0</td>\n",
       "      <td>1800.0</td>\n",
       "      <td>304.0</td>\n",
       "      <td>1308.0</td>\n",
       "      <td>258.0</td>\n",
       "      <td>8.0</td>\n",
       "      <td>12.0</td>\n",
       "      <td>...</td>\n",
       "      <td>13.0</td>\n",
       "      <td>602.0</td>\n",
       "      <td>364.0</td>\n",
       "      <td>461.0</td>\n",
       "      <td>331.0</td>\n",
       "      <td>430.0</td>\n",
       "      <td>327.0</td>\n",
       "      <td>31.0</td>\n",
       "      <td>35.0</td>\n",
       "      <td>MULTIPOLYGON (((-118.28593 34.25227, -118.2859...</td>\n",
       "    </tr>\n",
       "    <tr>\n",
       "      <th>4</th>\n",
       "      <td>14000US06037101221</td>\n",
       "      <td>Census Tract 1012.21, Los Angeles, CA</td>\n",
       "      <td>3723.0</td>\n",
       "      <td>721.0</td>\n",
       "      <td>2520.0</td>\n",
       "      <td>573.0</td>\n",
       "      <td>2070.0</td>\n",
       "      <td>584.0</td>\n",
       "      <td>97.0</td>\n",
       "      <td>85.0</td>\n",
       "      <td>...</td>\n",
       "      <td>13.0</td>\n",
       "      <td>555.0</td>\n",
       "      <td>344.0</td>\n",
       "      <td>173.0</td>\n",
       "      <td>161.0</td>\n",
       "      <td>173.0</td>\n",
       "      <td>161.0</td>\n",
       "      <td>0.0</td>\n",
       "      <td>13.0</td>\n",
       "      <td>MULTIPOLYGON (((-118.29945 34.25598, -118.2979...</td>\n",
       "    </tr>\n",
       "  </tbody>\n",
       "</table>\n",
       "<p>5 rows × 45 columns</p>\n",
       "</div>"
      ],
      "text/plain": [
       "                geoid                                   name   B03002001  \\\n",
       "0        05000US06037                 Los Angeles County, CA  10019635.0   \n",
       "1  14000US06037101110  Census Tract 1011.10, Los Angeles, CA      3879.0   \n",
       "2  14000US06037101122  Census Tract 1011.22, Los Angeles, CA      4247.0   \n",
       "3  14000US06037101220  Census Tract 1012.20, Los Angeles, CA      3583.0   \n",
       "4  14000US06037101221  Census Tract 1012.21, Los Angeles, CA      3723.0   \n",
       "\n",
       "   B03002001, Error  B03002002  B03002002, Error  B03002003  B03002003, Error  \\\n",
       "0               0.0  5141016.0               0.0  2550832.0            3019.0   \n",
       "1             480.0     2874.0             366.0     2305.0             320.0   \n",
       "2             875.0     3908.0             911.0     2940.0             843.0   \n",
       "3             486.0     1800.0             304.0     1308.0             258.0   \n",
       "4             721.0     2520.0             573.0     2070.0             584.0   \n",
       "\n",
       "   B03002004  B03002004, Error  ...  B03002017, Error  B03002018  \\\n",
       "0   766190.0            3654.0  ...             618.0  2158488.0   \n",
       "1       11.0              16.0  ...              13.0      258.0   \n",
       "2       99.0             105.0  ...              13.0      245.0   \n",
       "3        8.0              12.0  ...              13.0      602.0   \n",
       "4       97.0              85.0  ...              13.0      555.0   \n",
       "\n",
       "   B03002018, Error  B03002019  B03002019, Error  B03002020  B03002020, Error  \\\n",
       "0           18277.0   756737.0           13765.0   663549.0           13537.0   \n",
       "1             192.0      343.0             223.0      263.0             178.0   \n",
       "2             198.0       54.0              57.0       50.0              56.0   \n",
       "3             364.0      461.0             331.0      430.0             327.0   \n",
       "4             344.0      173.0             161.0      173.0             161.0   \n",
       "\n",
       "   B03002021  B03002021, Error  \\\n",
       "0    93188.0            3534.0   \n",
       "1       80.0             126.0   \n",
       "2        4.0               6.0   \n",
       "3       31.0              35.0   \n",
       "4        0.0              13.0   \n",
       "\n",
       "                                            geometry  \n",
       "0  MULTIPOLYGON (((-118.70339 34.16859, -118.7033...  \n",
       "1  MULTIPOLYGON (((-118.30229 34.25870, -118.3009...  \n",
       "2  MULTIPOLYGON (((-118.30334 34.27371, -118.3033...  \n",
       "3  MULTIPOLYGON (((-118.28593 34.25227, -118.2859...  \n",
       "4  MULTIPOLYGON (((-118.29945 34.25598, -118.2979...  \n",
       "\n",
       "[5 rows x 45 columns]"
      ]
     },
     "execution_count": 16,
     "metadata": {},
     "output_type": "execute_result"
    }
   ],
   "source": [
    "# check the data again\n",
    "gdf.head()"
   ]
  },
  {
   "cell_type": "code",
   "execution_count": 17,
   "metadata": {
    "slideshow": {
     "slide_type": "slide"
    }
   },
   "outputs": [],
   "source": [
    "# drop the row with index 0 (i.e. the first row)\n",
    "gdf = gdf.drop([0])"
   ]
  },
  {
   "cell_type": "code",
   "execution_count": 18,
   "metadata": {
    "slideshow": {
     "slide_type": "fragment"
    }
   },
   "outputs": [
    {
     "data": {
      "text/html": [
       "<div>\n",
       "<style scoped>\n",
       "    .dataframe tbody tr th:only-of-type {\n",
       "        vertical-align: middle;\n",
       "    }\n",
       "\n",
       "    .dataframe tbody tr th {\n",
       "        vertical-align: top;\n",
       "    }\n",
       "\n",
       "    .dataframe thead th {\n",
       "        text-align: right;\n",
       "    }\n",
       "</style>\n",
       "<table border=\"1\" class=\"dataframe\">\n",
       "  <thead>\n",
       "    <tr style=\"text-align: right;\">\n",
       "      <th></th>\n",
       "      <th>geoid</th>\n",
       "      <th>name</th>\n",
       "      <th>B03002001</th>\n",
       "      <th>B03002001, Error</th>\n",
       "      <th>B03002002</th>\n",
       "      <th>B03002002, Error</th>\n",
       "      <th>B03002003</th>\n",
       "      <th>B03002003, Error</th>\n",
       "      <th>B03002004</th>\n",
       "      <th>B03002004, Error</th>\n",
       "      <th>...</th>\n",
       "      <th>B03002017, Error</th>\n",
       "      <th>B03002018</th>\n",
       "      <th>B03002018, Error</th>\n",
       "      <th>B03002019</th>\n",
       "      <th>B03002019, Error</th>\n",
       "      <th>B03002020</th>\n",
       "      <th>B03002020, Error</th>\n",
       "      <th>B03002021</th>\n",
       "      <th>B03002021, Error</th>\n",
       "      <th>geometry</th>\n",
       "    </tr>\n",
       "  </thead>\n",
       "  <tbody>\n",
       "    <tr>\n",
       "      <th>1</th>\n",
       "      <td>14000US06037101110</td>\n",
       "      <td>Census Tract 1011.10, Los Angeles, CA</td>\n",
       "      <td>3879.0</td>\n",
       "      <td>480.0</td>\n",
       "      <td>2874.0</td>\n",
       "      <td>366.0</td>\n",
       "      <td>2305.0</td>\n",
       "      <td>320.0</td>\n",
       "      <td>11.0</td>\n",
       "      <td>16.0</td>\n",
       "      <td>...</td>\n",
       "      <td>13.0</td>\n",
       "      <td>258.0</td>\n",
       "      <td>192.0</td>\n",
       "      <td>343.0</td>\n",
       "      <td>223.0</td>\n",
       "      <td>263.0</td>\n",
       "      <td>178.0</td>\n",
       "      <td>80.0</td>\n",
       "      <td>126.0</td>\n",
       "      <td>MULTIPOLYGON (((-118.30229 34.25870, -118.3009...</td>\n",
       "    </tr>\n",
       "    <tr>\n",
       "      <th>2</th>\n",
       "      <td>14000US06037101122</td>\n",
       "      <td>Census Tract 1011.22, Los Angeles, CA</td>\n",
       "      <td>4247.0</td>\n",
       "      <td>875.0</td>\n",
       "      <td>3908.0</td>\n",
       "      <td>911.0</td>\n",
       "      <td>2940.0</td>\n",
       "      <td>843.0</td>\n",
       "      <td>99.0</td>\n",
       "      <td>105.0</td>\n",
       "      <td>...</td>\n",
       "      <td>13.0</td>\n",
       "      <td>245.0</td>\n",
       "      <td>198.0</td>\n",
       "      <td>54.0</td>\n",
       "      <td>57.0</td>\n",
       "      <td>50.0</td>\n",
       "      <td>56.0</td>\n",
       "      <td>4.0</td>\n",
       "      <td>6.0</td>\n",
       "      <td>MULTIPOLYGON (((-118.30334 34.27371, -118.3033...</td>\n",
       "    </tr>\n",
       "    <tr>\n",
       "      <th>3</th>\n",
       "      <td>14000US06037101220</td>\n",
       "      <td>Census Tract 1012.20, Los Angeles, CA</td>\n",
       "      <td>3583.0</td>\n",
       "      <td>486.0</td>\n",
       "      <td>1800.0</td>\n",
       "      <td>304.0</td>\n",
       "      <td>1308.0</td>\n",
       "      <td>258.0</td>\n",
       "      <td>8.0</td>\n",
       "      <td>12.0</td>\n",
       "      <td>...</td>\n",
       "      <td>13.0</td>\n",
       "      <td>602.0</td>\n",
       "      <td>364.0</td>\n",
       "      <td>461.0</td>\n",
       "      <td>331.0</td>\n",
       "      <td>430.0</td>\n",
       "      <td>327.0</td>\n",
       "      <td>31.0</td>\n",
       "      <td>35.0</td>\n",
       "      <td>MULTIPOLYGON (((-118.28593 34.25227, -118.2859...</td>\n",
       "    </tr>\n",
       "    <tr>\n",
       "      <th>4</th>\n",
       "      <td>14000US06037101221</td>\n",
       "      <td>Census Tract 1012.21, Los Angeles, CA</td>\n",
       "      <td>3723.0</td>\n",
       "      <td>721.0</td>\n",
       "      <td>2520.0</td>\n",
       "      <td>573.0</td>\n",
       "      <td>2070.0</td>\n",
       "      <td>584.0</td>\n",
       "      <td>97.0</td>\n",
       "      <td>85.0</td>\n",
       "      <td>...</td>\n",
       "      <td>13.0</td>\n",
       "      <td>555.0</td>\n",
       "      <td>344.0</td>\n",
       "      <td>173.0</td>\n",
       "      <td>161.0</td>\n",
       "      <td>173.0</td>\n",
       "      <td>161.0</td>\n",
       "      <td>0.0</td>\n",
       "      <td>13.0</td>\n",
       "      <td>MULTIPOLYGON (((-118.29945 34.25598, -118.2979...</td>\n",
       "    </tr>\n",
       "    <tr>\n",
       "      <th>5</th>\n",
       "      <td>14000US06037101222</td>\n",
       "      <td>Census Tract 1012.22, Los Angeles, CA</td>\n",
       "      <td>2690.0</td>\n",
       "      <td>520.0</td>\n",
       "      <td>1775.0</td>\n",
       "      <td>476.0</td>\n",
       "      <td>1570.0</td>\n",
       "      <td>457.0</td>\n",
       "      <td>17.0</td>\n",
       "      <td>29.0</td>\n",
       "      <td>...</td>\n",
       "      <td>13.0</td>\n",
       "      <td>42.0</td>\n",
       "      <td>64.0</td>\n",
       "      <td>39.0</td>\n",
       "      <td>76.0</td>\n",
       "      <td>24.0</td>\n",
       "      <td>53.0</td>\n",
       "      <td>15.0</td>\n",
       "      <td>41.0</td>\n",
       "      <td>MULTIPOLYGON (((-118.29434 34.25233, -118.2931...</td>\n",
       "    </tr>\n",
       "  </tbody>\n",
       "</table>\n",
       "<p>5 rows × 45 columns</p>\n",
       "</div>"
      ],
      "text/plain": [
       "                geoid                                   name  B03002001  \\\n",
       "1  14000US06037101110  Census Tract 1011.10, Los Angeles, CA     3879.0   \n",
       "2  14000US06037101122  Census Tract 1011.22, Los Angeles, CA     4247.0   \n",
       "3  14000US06037101220  Census Tract 1012.20, Los Angeles, CA     3583.0   \n",
       "4  14000US06037101221  Census Tract 1012.21, Los Angeles, CA     3723.0   \n",
       "5  14000US06037101222  Census Tract 1012.22, Los Angeles, CA     2690.0   \n",
       "\n",
       "   B03002001, Error  B03002002  B03002002, Error  B03002003  B03002003, Error  \\\n",
       "1             480.0     2874.0             366.0     2305.0             320.0   \n",
       "2             875.0     3908.0             911.0     2940.0             843.0   \n",
       "3             486.0     1800.0             304.0     1308.0             258.0   \n",
       "4             721.0     2520.0             573.0     2070.0             584.0   \n",
       "5             520.0     1775.0             476.0     1570.0             457.0   \n",
       "\n",
       "   B03002004  B03002004, Error  ...  B03002017, Error  B03002018  \\\n",
       "1       11.0              16.0  ...              13.0      258.0   \n",
       "2       99.0             105.0  ...              13.0      245.0   \n",
       "3        8.0              12.0  ...              13.0      602.0   \n",
       "4       97.0              85.0  ...              13.0      555.0   \n",
       "5       17.0              29.0  ...              13.0       42.0   \n",
       "\n",
       "   B03002018, Error  B03002019  B03002019, Error  B03002020  B03002020, Error  \\\n",
       "1             192.0      343.0             223.0      263.0             178.0   \n",
       "2             198.0       54.0              57.0       50.0              56.0   \n",
       "3             364.0      461.0             331.0      430.0             327.0   \n",
       "4             344.0      173.0             161.0      173.0             161.0   \n",
       "5              64.0       39.0              76.0       24.0              53.0   \n",
       "\n",
       "   B03002021  B03002021, Error  \\\n",
       "1       80.0             126.0   \n",
       "2        4.0               6.0   \n",
       "3       31.0              35.0   \n",
       "4        0.0              13.0   \n",
       "5       15.0              41.0   \n",
       "\n",
       "                                            geometry  \n",
       "1  MULTIPOLYGON (((-118.30229 34.25870, -118.3009...  \n",
       "2  MULTIPOLYGON (((-118.30334 34.27371, -118.3033...  \n",
       "3  MULTIPOLYGON (((-118.28593 34.25227, -118.2859...  \n",
       "4  MULTIPOLYGON (((-118.29945 34.25598, -118.2979...  \n",
       "5  MULTIPOLYGON (((-118.29434 34.25233, -118.2931...  \n",
       "\n",
       "[5 rows x 45 columns]"
      ]
     },
     "execution_count": 18,
     "metadata": {},
     "output_type": "execute_result"
    }
   ],
   "source": [
    "# check to see if it has been deleted\n",
    "gdf.head()"
   ]
  },
  {
   "cell_type": "markdown",
   "metadata": {
    "slideshow": {
     "slide_type": "slide"
    }
   },
   "source": [
    "## The census data dictionary\n",
    "There are a lot of columns. What are these columns? Column headers are defined in the `metadata.json` file that comes in the dowloaded zipfile from censusreporter. Click the link below to open the json file in another tab.\n",
    "\n",
    "* [metadata.json](data/metadata.json)"
   ]
  },
  {
   "cell_type": "markdown",
   "metadata": {
    "slideshow": {
     "slide_type": "slide"
    }
   },
   "source": [
    "Let's identify which columns are needed, and which are not for our exploration.\n",
    "\n",
    "![census variables](images/census1.png)"
   ]
  },
  {
   "cell_type": "markdown",
   "metadata": {
    "slideshow": {
     "slide_type": "slide"
    }
   },
   "source": [
    "## Dropping columns \n",
    "There are many columns that we do not need. \n",
    "\n",
    "- output existing columns as a list\n",
    "- create a list of columns to keep\n",
    "- redefine `gdf` with only the columns to keep\n"
   ]
  },
  {
   "cell_type": "code",
   "execution_count": 19,
   "metadata": {
    "scrolled": true,
    "slideshow": {
     "slide_type": "slide"
    }
   },
   "outputs": [
    {
     "data": {
      "text/plain": [
       "['geoid',\n",
       " 'name',\n",
       " 'B03002001',\n",
       " 'B03002001, Error',\n",
       " 'B03002002',\n",
       " 'B03002002, Error',\n",
       " 'B03002003',\n",
       " 'B03002003, Error',\n",
       " 'B03002004',\n",
       " 'B03002004, Error',\n",
       " 'B03002005',\n",
       " 'B03002005, Error',\n",
       " 'B03002006',\n",
       " 'B03002006, Error',\n",
       " 'B03002007',\n",
       " 'B03002007, Error',\n",
       " 'B03002008',\n",
       " 'B03002008, Error',\n",
       " 'B03002009',\n",
       " 'B03002009, Error',\n",
       " 'B03002010',\n",
       " 'B03002010, Error',\n",
       " 'B03002011',\n",
       " 'B03002011, Error',\n",
       " 'B03002012',\n",
       " 'B03002012, Error',\n",
       " 'B03002013',\n",
       " 'B03002013, Error',\n",
       " 'B03002014',\n",
       " 'B03002014, Error',\n",
       " 'B03002015',\n",
       " 'B03002015, Error',\n",
       " 'B03002016',\n",
       " 'B03002016, Error',\n",
       " 'B03002017',\n",
       " 'B03002017, Error',\n",
       " 'B03002018',\n",
       " 'B03002018, Error',\n",
       " 'B03002019',\n",
       " 'B03002019, Error',\n",
       " 'B03002020',\n",
       " 'B03002020, Error',\n",
       " 'B03002021',\n",
       " 'B03002021, Error',\n",
       " 'geometry']"
      ]
     },
     "execution_count": 19,
     "metadata": {},
     "output_type": "execute_result"
    }
   ],
   "source": [
    "list(gdf) # this is the same as df.columns.to_list()"
   ]
  },
  {
   "cell_type": "code",
   "execution_count": 20,
   "metadata": {
    "slideshow": {
     "slide_type": "slide"
    }
   },
   "outputs": [],
   "source": [
    "# create a list of columns to keep\n",
    "columns_to_keep = ['geoid',\n",
    " 'name',\n",
    " 'B03002001',\n",
    " 'B03002002',\n",
    " 'B03002003',\n",
    " 'B03002004',\n",
    " 'B03002005',\n",
    " 'B03002006',\n",
    " 'B03002007',\n",
    " 'B03002008',\n",
    " 'B03002009',\n",
    " 'B03002012',\n",
    " 'geometry']"
   ]
  },
  {
   "cell_type": "code",
   "execution_count": 21,
   "metadata": {
    "slideshow": {
     "slide_type": "slide"
    }
   },
   "outputs": [],
   "source": [
    "# redefine gdf with only columns to keep\n",
    "gdf = gdf[columns_to_keep]"
   ]
  },
  {
   "cell_type": "code",
   "execution_count": 22,
   "metadata": {
    "scrolled": true,
    "slideshow": {
     "slide_type": "fragment"
    }
   },
   "outputs": [
    {
     "data": {
      "text/html": [
       "<div>\n",
       "<style scoped>\n",
       "    .dataframe tbody tr th:only-of-type {\n",
       "        vertical-align: middle;\n",
       "    }\n",
       "\n",
       "    .dataframe tbody tr th {\n",
       "        vertical-align: top;\n",
       "    }\n",
       "\n",
       "    .dataframe thead th {\n",
       "        text-align: right;\n",
       "    }\n",
       "</style>\n",
       "<table border=\"1\" class=\"dataframe\">\n",
       "  <thead>\n",
       "    <tr style=\"text-align: right;\">\n",
       "      <th></th>\n",
       "      <th>geoid</th>\n",
       "      <th>name</th>\n",
       "      <th>B03002001</th>\n",
       "      <th>B03002002</th>\n",
       "      <th>B03002003</th>\n",
       "      <th>B03002004</th>\n",
       "      <th>B03002005</th>\n",
       "      <th>B03002006</th>\n",
       "      <th>B03002007</th>\n",
       "      <th>B03002008</th>\n",
       "      <th>B03002009</th>\n",
       "      <th>B03002012</th>\n",
       "      <th>geometry</th>\n",
       "    </tr>\n",
       "  </thead>\n",
       "  <tbody>\n",
       "    <tr>\n",
       "      <th>1</th>\n",
       "      <td>14000US06037101110</td>\n",
       "      <td>Census Tract 1011.10, Los Angeles, CA</td>\n",
       "      <td>3879.0</td>\n",
       "      <td>2874.0</td>\n",
       "      <td>2305.0</td>\n",
       "      <td>11.0</td>\n",
       "      <td>6.0</td>\n",
       "      <td>405.0</td>\n",
       "      <td>0.0</td>\n",
       "      <td>8.0</td>\n",
       "      <td>139.0</td>\n",
       "      <td>1005.0</td>\n",
       "      <td>MULTIPOLYGON (((-118.30229 34.25870, -118.3009...</td>\n",
       "    </tr>\n",
       "    <tr>\n",
       "      <th>2</th>\n",
       "      <td>14000US06037101122</td>\n",
       "      <td>Census Tract 1011.22, Los Angeles, CA</td>\n",
       "      <td>4247.0</td>\n",
       "      <td>3908.0</td>\n",
       "      <td>2940.0</td>\n",
       "      <td>99.0</td>\n",
       "      <td>0.0</td>\n",
       "      <td>607.0</td>\n",
       "      <td>0.0</td>\n",
       "      <td>0.0</td>\n",
       "      <td>262.0</td>\n",
       "      <td>339.0</td>\n",
       "      <td>MULTIPOLYGON (((-118.30334 34.27371, -118.3033...</td>\n",
       "    </tr>\n",
       "    <tr>\n",
       "      <th>3</th>\n",
       "      <td>14000US06037101220</td>\n",
       "      <td>Census Tract 1012.20, Los Angeles, CA</td>\n",
       "      <td>3583.0</td>\n",
       "      <td>1800.0</td>\n",
       "      <td>1308.0</td>\n",
       "      <td>8.0</td>\n",
       "      <td>40.0</td>\n",
       "      <td>341.0</td>\n",
       "      <td>0.0</td>\n",
       "      <td>5.0</td>\n",
       "      <td>98.0</td>\n",
       "      <td>1783.0</td>\n",
       "      <td>MULTIPOLYGON (((-118.28593 34.25227, -118.2859...</td>\n",
       "    </tr>\n",
       "    <tr>\n",
       "      <th>4</th>\n",
       "      <td>14000US06037101221</td>\n",
       "      <td>Census Tract 1012.21, Los Angeles, CA</td>\n",
       "      <td>3723.0</td>\n",
       "      <td>2520.0</td>\n",
       "      <td>2070.0</td>\n",
       "      <td>97.0</td>\n",
       "      <td>0.0</td>\n",
       "      <td>209.0</td>\n",
       "      <td>0.0</td>\n",
       "      <td>113.0</td>\n",
       "      <td>31.0</td>\n",
       "      <td>1203.0</td>\n",
       "      <td>MULTIPOLYGON (((-118.29945 34.25598, -118.2979...</td>\n",
       "    </tr>\n",
       "    <tr>\n",
       "      <th>5</th>\n",
       "      <td>14000US06037101222</td>\n",
       "      <td>Census Tract 1012.22, Los Angeles, CA</td>\n",
       "      <td>2690.0</td>\n",
       "      <td>1775.0</td>\n",
       "      <td>1570.0</td>\n",
       "      <td>17.0</td>\n",
       "      <td>0.0</td>\n",
       "      <td>131.0</td>\n",
       "      <td>57.0</td>\n",
       "      <td>0.0</td>\n",
       "      <td>0.0</td>\n",
       "      <td>915.0</td>\n",
       "      <td>MULTIPOLYGON (((-118.29434 34.25233, -118.2931...</td>\n",
       "    </tr>\n",
       "  </tbody>\n",
       "</table>\n",
       "</div>"
      ],
      "text/plain": [
       "                geoid                                   name  B03002001  \\\n",
       "1  14000US06037101110  Census Tract 1011.10, Los Angeles, CA     3879.0   \n",
       "2  14000US06037101122  Census Tract 1011.22, Los Angeles, CA     4247.0   \n",
       "3  14000US06037101220  Census Tract 1012.20, Los Angeles, CA     3583.0   \n",
       "4  14000US06037101221  Census Tract 1012.21, Los Angeles, CA     3723.0   \n",
       "5  14000US06037101222  Census Tract 1012.22, Los Angeles, CA     2690.0   \n",
       "\n",
       "   B03002002  B03002003  B03002004  B03002005  B03002006  B03002007  \\\n",
       "1     2874.0     2305.0       11.0        6.0      405.0        0.0   \n",
       "2     3908.0     2940.0       99.0        0.0      607.0        0.0   \n",
       "3     1800.0     1308.0        8.0       40.0      341.0        0.0   \n",
       "4     2520.0     2070.0       97.0        0.0      209.0        0.0   \n",
       "5     1775.0     1570.0       17.0        0.0      131.0       57.0   \n",
       "\n",
       "   B03002008  B03002009  B03002012  \\\n",
       "1        8.0      139.0     1005.0   \n",
       "2        0.0      262.0      339.0   \n",
       "3        5.0       98.0     1783.0   \n",
       "4      113.0       31.0     1203.0   \n",
       "5        0.0        0.0      915.0   \n",
       "\n",
       "                                            geometry  \n",
       "1  MULTIPOLYGON (((-118.30229 34.25870, -118.3009...  \n",
       "2  MULTIPOLYGON (((-118.30334 34.27371, -118.3033...  \n",
       "3  MULTIPOLYGON (((-118.28593 34.25227, -118.2859...  \n",
       "4  MULTIPOLYGON (((-118.29945 34.25598, -118.2979...  \n",
       "5  MULTIPOLYGON (((-118.29434 34.25233, -118.2931...  "
      ]
     },
     "execution_count": 22,
     "metadata": {},
     "output_type": "execute_result"
    }
   ],
   "source": [
    "# check the slimmed down gdf\n",
    "gdf.head()"
   ]
  },
  {
   "cell_type": "markdown",
   "metadata": {
    "slideshow": {
     "slide_type": "slide"
    }
   },
   "source": [
    "## Renaming columns\n",
    "\n",
    "Let's rename the columns. First, create a list of column names as they are now."
   ]
  },
  {
   "cell_type": "code",
   "execution_count": 23,
   "metadata": {},
   "outputs": [
    {
     "data": {
      "text/plain": [
       "['geoid',\n",
       " 'name',\n",
       " 'B03002001',\n",
       " 'B03002002',\n",
       " 'B03002003',\n",
       " 'B03002004',\n",
       " 'B03002005',\n",
       " 'B03002006',\n",
       " 'B03002007',\n",
       " 'B03002008',\n",
       " 'B03002009',\n",
       " 'B03002012',\n",
       " 'geometry']"
      ]
     },
     "execution_count": 23,
     "metadata": {},
     "output_type": "execute_result"
    }
   ],
   "source": [
    "list(gdf) # this is the same as df.columns.to_list()"
   ]
  },
  {
   "cell_type": "markdown",
   "metadata": {
    "slideshow": {
     "slide_type": "slide"
    }
   },
   "source": [
    "Then, simply copy and paste the output list above, and define the columns with it. Replace the values with your desired column names"
   ]
  },
  {
   "cell_type": "code",
   "execution_count": 24,
   "metadata": {},
   "outputs": [],
   "source": [
    "gdf.columns = ['geoid',\n",
    " 'name',\n",
    " 'Total',\n",
    " 'Non Hispanic',\n",
    " 'Non Hispanic White',\n",
    " 'Non Hispanic Black',\n",
    " 'Non Hispanic American Indian and Alaska Native',\n",
    " 'Non Hispanic Asian',\n",
    " 'Non Hispanic Native Hawaiian and Other Pacific Islander',\n",
    " 'Non Hispanic Some other race',\n",
    " 'Non Hispanic Two or more races',\n",
    " 'Hispanic',\n",
    " 'geometry']"
   ]
  },
  {
   "cell_type": "code",
   "execution_count": 25,
   "metadata": {
    "scrolled": true,
    "slideshow": {
     "slide_type": "slide"
    }
   },
   "outputs": [
    {
     "data": {
      "text/html": [
       "<div>\n",
       "<style scoped>\n",
       "    .dataframe tbody tr th:only-of-type {\n",
       "        vertical-align: middle;\n",
       "    }\n",
       "\n",
       "    .dataframe tbody tr th {\n",
       "        vertical-align: top;\n",
       "    }\n",
       "\n",
       "    .dataframe thead th {\n",
       "        text-align: right;\n",
       "    }\n",
       "</style>\n",
       "<table border=\"1\" class=\"dataframe\">\n",
       "  <thead>\n",
       "    <tr style=\"text-align: right;\">\n",
       "      <th></th>\n",
       "      <th>geoid</th>\n",
       "      <th>name</th>\n",
       "      <th>Total</th>\n",
       "      <th>Non Hispanic</th>\n",
       "      <th>Non Hispanic White</th>\n",
       "      <th>Non Hispanic Black</th>\n",
       "      <th>Non Hispanic American Indian and Alaska Native</th>\n",
       "      <th>Non Hispanic Asian</th>\n",
       "      <th>Non Hispanic Native Hawaiian and Other Pacific Islander</th>\n",
       "      <th>Non Hispanic Some other race</th>\n",
       "      <th>Non Hispanic Two or more races</th>\n",
       "      <th>Hispanic</th>\n",
       "      <th>geometry</th>\n",
       "    </tr>\n",
       "  </thead>\n",
       "  <tbody>\n",
       "    <tr>\n",
       "      <th>1</th>\n",
       "      <td>14000US06037101110</td>\n",
       "      <td>Census Tract 1011.10, Los Angeles, CA</td>\n",
       "      <td>3879.0</td>\n",
       "      <td>2874.0</td>\n",
       "      <td>2305.0</td>\n",
       "      <td>11.0</td>\n",
       "      <td>6.0</td>\n",
       "      <td>405.0</td>\n",
       "      <td>0.0</td>\n",
       "      <td>8.0</td>\n",
       "      <td>139.0</td>\n",
       "      <td>1005.0</td>\n",
       "      <td>MULTIPOLYGON (((-118.30229 34.25870, -118.3009...</td>\n",
       "    </tr>\n",
       "    <tr>\n",
       "      <th>2</th>\n",
       "      <td>14000US06037101122</td>\n",
       "      <td>Census Tract 1011.22, Los Angeles, CA</td>\n",
       "      <td>4247.0</td>\n",
       "      <td>3908.0</td>\n",
       "      <td>2940.0</td>\n",
       "      <td>99.0</td>\n",
       "      <td>0.0</td>\n",
       "      <td>607.0</td>\n",
       "      <td>0.0</td>\n",
       "      <td>0.0</td>\n",
       "      <td>262.0</td>\n",
       "      <td>339.0</td>\n",
       "      <td>MULTIPOLYGON (((-118.30334 34.27371, -118.3033...</td>\n",
       "    </tr>\n",
       "    <tr>\n",
       "      <th>3</th>\n",
       "      <td>14000US06037101220</td>\n",
       "      <td>Census Tract 1012.20, Los Angeles, CA</td>\n",
       "      <td>3583.0</td>\n",
       "      <td>1800.0</td>\n",
       "      <td>1308.0</td>\n",
       "      <td>8.0</td>\n",
       "      <td>40.0</td>\n",
       "      <td>341.0</td>\n",
       "      <td>0.0</td>\n",
       "      <td>5.0</td>\n",
       "      <td>98.0</td>\n",
       "      <td>1783.0</td>\n",
       "      <td>MULTIPOLYGON (((-118.28593 34.25227, -118.2859...</td>\n",
       "    </tr>\n",
       "    <tr>\n",
       "      <th>4</th>\n",
       "      <td>14000US06037101221</td>\n",
       "      <td>Census Tract 1012.21, Los Angeles, CA</td>\n",
       "      <td>3723.0</td>\n",
       "      <td>2520.0</td>\n",
       "      <td>2070.0</td>\n",
       "      <td>97.0</td>\n",
       "      <td>0.0</td>\n",
       "      <td>209.0</td>\n",
       "      <td>0.0</td>\n",
       "      <td>113.0</td>\n",
       "      <td>31.0</td>\n",
       "      <td>1203.0</td>\n",
       "      <td>MULTIPOLYGON (((-118.29945 34.25598, -118.2979...</td>\n",
       "    </tr>\n",
       "    <tr>\n",
       "      <th>5</th>\n",
       "      <td>14000US06037101222</td>\n",
       "      <td>Census Tract 1012.22, Los Angeles, CA</td>\n",
       "      <td>2690.0</td>\n",
       "      <td>1775.0</td>\n",
       "      <td>1570.0</td>\n",
       "      <td>17.0</td>\n",
       "      <td>0.0</td>\n",
       "      <td>131.0</td>\n",
       "      <td>57.0</td>\n",
       "      <td>0.0</td>\n",
       "      <td>0.0</td>\n",
       "      <td>915.0</td>\n",
       "      <td>MULTIPOLYGON (((-118.29434 34.25233, -118.2931...</td>\n",
       "    </tr>\n",
       "  </tbody>\n",
       "</table>\n",
       "</div>"
      ],
      "text/plain": [
       "                geoid                                   name   Total  \\\n",
       "1  14000US06037101110  Census Tract 1011.10, Los Angeles, CA  3879.0   \n",
       "2  14000US06037101122  Census Tract 1011.22, Los Angeles, CA  4247.0   \n",
       "3  14000US06037101220  Census Tract 1012.20, Los Angeles, CA  3583.0   \n",
       "4  14000US06037101221  Census Tract 1012.21, Los Angeles, CA  3723.0   \n",
       "5  14000US06037101222  Census Tract 1012.22, Los Angeles, CA  2690.0   \n",
       "\n",
       "   Non Hispanic  Non Hispanic White  Non Hispanic Black  \\\n",
       "1        2874.0              2305.0                11.0   \n",
       "2        3908.0              2940.0                99.0   \n",
       "3        1800.0              1308.0                 8.0   \n",
       "4        2520.0              2070.0                97.0   \n",
       "5        1775.0              1570.0                17.0   \n",
       "\n",
       "   Non Hispanic American Indian and Alaska Native  Non Hispanic Asian  \\\n",
       "1                                             6.0               405.0   \n",
       "2                                             0.0               607.0   \n",
       "3                                            40.0               341.0   \n",
       "4                                             0.0               209.0   \n",
       "5                                             0.0               131.0   \n",
       "\n",
       "   Non Hispanic Native Hawaiian and Other Pacific Islander  \\\n",
       "1                                                0.0         \n",
       "2                                                0.0         \n",
       "3                                                0.0         \n",
       "4                                                0.0         \n",
       "5                                               57.0         \n",
       "\n",
       "   Non Hispanic Some other race  Non Hispanic Two or more races  Hispanic  \\\n",
       "1                           8.0                           139.0    1005.0   \n",
       "2                           0.0                           262.0     339.0   \n",
       "3                           5.0                            98.0    1783.0   \n",
       "4                         113.0                            31.0    1203.0   \n",
       "5                           0.0                             0.0     915.0   \n",
       "\n",
       "                                            geometry  \n",
       "1  MULTIPOLYGON (((-118.30229 34.25870, -118.3009...  \n",
       "2  MULTIPOLYGON (((-118.30334 34.27371, -118.3033...  \n",
       "3  MULTIPOLYGON (((-118.28593 34.25227, -118.2859...  \n",
       "4  MULTIPOLYGON (((-118.29945 34.25598, -118.2979...  \n",
       "5  MULTIPOLYGON (((-118.29434 34.25233, -118.2931...  "
      ]
     },
     "execution_count": 25,
     "metadata": {},
     "output_type": "execute_result"
    }
   ],
   "source": [
    "# check the renamed columns\n",
    "gdf.head()"
   ]
  },
  {
   "cell_type": "markdown",
   "metadata": {
    "slideshow": {
     "slide_type": "slide"
    }
   },
   "source": [
    "## Double check your data integrity\n",
    "Does the math add up? Let's check. The `Total` should equal the rest of the columns."
   ]
  },
  {
   "cell_type": "code",
   "execution_count": 27,
   "metadata": {
    "slideshow": {
     "slide_type": "fragment"
    }
   },
   "outputs": [
    {
     "data": {
      "text/html": [
       "<div>\n",
       "<style scoped>\n",
       "    .dataframe tbody tr th:only-of-type {\n",
       "        vertical-align: middle;\n",
       "    }\n",
       "\n",
       "    .dataframe tbody tr th {\n",
       "        vertical-align: top;\n",
       "    }\n",
       "\n",
       "    .dataframe thead th {\n",
       "        text-align: right;\n",
       "    }\n",
       "</style>\n",
       "<table border=\"1\" class=\"dataframe\">\n",
       "  <thead>\n",
       "    <tr style=\"text-align: right;\">\n",
       "      <th></th>\n",
       "      <th>geoid</th>\n",
       "      <th>name</th>\n",
       "      <th>Total</th>\n",
       "      <th>Non Hispanic</th>\n",
       "      <th>Non Hispanic White</th>\n",
       "      <th>Non Hispanic Black</th>\n",
       "      <th>Non Hispanic American Indian and Alaska Native</th>\n",
       "      <th>Non Hispanic Asian</th>\n",
       "      <th>Non Hispanic Native Hawaiian and Other Pacific Islander</th>\n",
       "      <th>Non Hispanic Some other race</th>\n",
       "      <th>Non Hispanic Two or more races</th>\n",
       "      <th>Hispanic</th>\n",
       "      <th>geometry</th>\n",
       "    </tr>\n",
       "  </thead>\n",
       "  <tbody>\n",
       "    <tr>\n",
       "      <th>1729</th>\n",
       "      <td>14000US06037534404</td>\n",
       "      <td>Census Tract 5344.04, Los Angeles, CA</td>\n",
       "      <td>3333.0</td>\n",
       "      <td>152.0</td>\n",
       "      <td>114.0</td>\n",
       "      <td>0.0</td>\n",
       "      <td>21.0</td>\n",
       "      <td>6.0</td>\n",
       "      <td>11.0</td>\n",
       "      <td>0.0</td>\n",
       "      <td>0.0</td>\n",
       "      <td>3181.0</td>\n",
       "      <td>MULTIPOLYGON (((-118.19484 33.96413, -118.1946...</td>\n",
       "    </tr>\n",
       "  </tbody>\n",
       "</table>\n",
       "</div>"
      ],
      "text/plain": [
       "                   geoid                                   name   Total  \\\n",
       "1729  14000US06037534404  Census Tract 5344.04, Los Angeles, CA  3333.0   \n",
       "\n",
       "      Non Hispanic  Non Hispanic White  Non Hispanic Black  \\\n",
       "1729         152.0               114.0                 0.0   \n",
       "\n",
       "      Non Hispanic American Indian and Alaska Native  Non Hispanic Asian  \\\n",
       "1729                                            21.0                 6.0   \n",
       "\n",
       "      Non Hispanic Native Hawaiian and Other Pacific Islander  \\\n",
       "1729                                               11.0         \n",
       "\n",
       "      Non Hispanic Some other race  Non Hispanic Two or more races  Hispanic  \\\n",
       "1729                           0.0                             0.0    3181.0   \n",
       "\n",
       "                                               geometry  \n",
       "1729  MULTIPOLYGON (((-118.19484 33.96413, -118.1946...  "
      ]
     },
     "execution_count": 27,
     "metadata": {},
     "output_type": "execute_result"
    }
   ],
   "source": [
    "# get a random record\n",
    "random_tract = gdf.sample()\n",
    "random_tract"
   ]
  },
  {
   "cell_type": "markdown",
   "metadata": {
    "slideshow": {
     "slide_type": "slide"
    }
   },
   "source": [
    "To get values from individual cells in a dataframe, use the `iloc` command.\n",
    "\n",
    "- `iloc` ([documentation](https://pandas.pydata.org/pandas-docs/stable/reference/api/pandas.DataFrame.iloc.html))\n",
    "\n",
    "While there are various methods to get cell values in python, the iloc command allows you to get to a cell based on the position of the record row and the column name."
   ]
  },
  {
   "cell_type": "code",
   "execution_count": 28,
   "metadata": {
    "slideshow": {
     "slide_type": "slide"
    }
   },
   "outputs": [
    {
     "data": {
      "text/plain": [
       "3333.0"
      ]
     },
     "execution_count": 28,
     "metadata": {},
     "output_type": "execute_result"
    }
   ],
   "source": [
    "# example usage of iloc to get the total population of our random record\n",
    "# \"for the 0th record, get the value in the Total column\"\n",
    "random_tract.iloc[0]['Total']"
   ]
  },
  {
   "cell_type": "code",
   "execution_count": 29,
   "metadata": {
    "slideshow": {
     "slide_type": "fragment"
    }
   },
   "outputs": [
    {
     "name": "stdout",
     "output_type": "stream",
     "text": [
      "Total population: 3333.0\n"
     ]
    }
   ],
   "source": [
    "# print this out in plain english\n",
    "print('Total population: ' + str(random_tract.iloc[0]['Total']))"
   ]
  },
  {
   "cell_type": "code",
   "execution_count": 30,
   "metadata": {},
   "outputs": [
    {
     "name": "stdout",
     "output_type": "stream",
     "text": [
      "Non Hispanic + Hispanic: 3333.0\n"
     ]
    }
   ],
   "source": [
    "# non hispanic plus hispanic should equal to the total\n",
    "print('Non Hispanic + Hispanic: ' + str(random_tract.iloc[0]['Non Hispanic'] + random_tract.iloc[0]['Hispanic']))"
   ]
  },
  {
   "cell_type": "code",
   "execution_count": 31,
   "metadata": {},
   "outputs": [
    {
     "name": "stdout",
     "output_type": "stream",
     "text": [
      "3333.0\n"
     ]
    }
   ],
   "source": [
    "# hispanic plus all the non hispanice categories\n",
    "print(random_tract.iloc[0]['Non Hispanic White'] + \n",
    "      random_tract.iloc[0]['Non Hispanic Black'] + \n",
    "      random_tract.iloc[0]['Non Hispanic American Indian and Alaska Native'] + \n",
    "      random_tract.iloc[0]['Non Hispanic Asian'] + \n",
    "      random_tract.iloc[0]['Non Hispanic Native Hawaiian and Other Pacific Islander'] + \n",
    "      random_tract.iloc[0]['Non Hispanic Some other race'] + \n",
    "      random_tract.iloc[0]['Non Hispanic Two or more races'] + \n",
    "      random_tract.iloc[0]['Hispanic'])"
   ]
  },
  {
   "cell_type": "markdown",
   "metadata": {
    "slideshow": {
     "slide_type": "slide"
    }
   },
   "source": [
    "## Simple stats and plots"
   ]
  },
  {
   "cell_type": "code",
   "execution_count": 32,
   "metadata": {},
   "outputs": [
    {
     "data": {
      "text/plain": [
       "1    3879.0\n",
       "2    4247.0\n",
       "3    3583.0\n",
       "4    3723.0\n",
       "5    2690.0\n",
       "Name: Total, dtype: float64"
      ]
     },
     "execution_count": 32,
     "metadata": {},
     "output_type": "execute_result"
    }
   ],
   "source": [
    "# access a single column like df['col_name']\n",
    "gdf['Total'].head()"
   ]
  },
  {
   "cell_type": "code",
   "execution_count": 33,
   "metadata": {
    "slideshow": {
     "slide_type": "slide"
    }
   },
   "outputs": [
    {
     "data": {
      "text/plain": [
       "4011.062850280224"
      ]
     },
     "execution_count": 33,
     "metadata": {},
     "output_type": "execute_result"
    }
   ],
   "source": [
    "# What is the mean?\n",
    "gdf['Total'].mean()"
   ]
  },
  {
   "cell_type": "code",
   "execution_count": 34,
   "metadata": {},
   "outputs": [
    {
     "data": {
      "text/plain": [
       "3933.0"
      ]
     },
     "execution_count": 34,
     "metadata": {},
     "output_type": "execute_result"
    }
   ],
   "source": [
    "# What is the median?\n",
    "gdf['Total'].median()"
   ]
  },
  {
   "cell_type": "code",
   "execution_count": 35,
   "metadata": {},
   "outputs": [
    {
     "data": {
      "text/plain": [
       "count     2498.00000\n",
       "mean      4011.06285\n",
       "std       1470.99188\n",
       "min          0.00000\n",
       "25%       2993.25000\n",
       "50%       3933.00000\n",
       "75%       4954.00000\n",
       "max      13830.00000\n",
       "Name: Total, dtype: float64"
      ]
     },
     "execution_count": 35,
     "metadata": {},
     "output_type": "execute_result"
    }
   ],
   "source": [
    "# get some stats\n",
    "gdf['Total'].describe()"
   ]
  },
  {
   "cell_type": "markdown",
   "metadata": {
    "slideshow": {
     "slide_type": "slide"
    }
   },
   "source": [
    "## Create your first plot\n",
    "\n",
    "- https://pandas.pydata.org/pandas-docs/stable/user_guide/visualization.html"
   ]
  },
  {
   "cell_type": "code",
   "execution_count": 36,
   "metadata": {
    "slideshow": {
     "slide_type": "slide"
    }
   },
   "outputs": [
    {
     "data": {
      "text/plain": [
       "<Axes: ylabel='Frequency'>"
      ]
     },
     "execution_count": 36,
     "metadata": {},
     "output_type": "execute_result"
    },
    {
     "data": {
      "image/png": "[encoded data removed]",
      "text/plain": [
       "<Figure size 640x480 with 1 Axes>"
      ]
     },
     "metadata": {},
     "output_type": "display_data"
    }
   ],
   "source": [
    "# plot it as a historgram with 50 bins\n",
    "gdf['Total'].plot.hist()"
   ]
  },
  {
   "cell_type": "code",
   "execution_count": 37,
   "metadata": {
    "scrolled": true,
    "slideshow": {
     "slide_type": "slide"
    }
   },
   "outputs": [
    {
     "data": {
      "text/plain": [
       "<Axes: title={'center': 'Los Angeles County census tracts by population size (ACS 2019 5-year)'}, ylabel='Frequency'>"
      ]
     },
     "execution_count": 37,
     "metadata": {},
     "output_type": "execute_result"
    },
    {
     "data": {
      "image/png": "[encoded data removed]",
      "text/plain": [
       "<Figure size 1200x500 with 1 Axes>"
      ]
     },
     "metadata": {},
     "output_type": "display_data"
    }
   ],
   "source": [
    "# make it bigger, increase the number of bins, and give it a title\n",
    "gdf['Total'].plot.hist(figsize=(12,5),\n",
    "                       bins=100,\n",
    "                       title='Los Angeles County census tracts by population size (ACS 2019 5-year)')"
   ]
  },
  {
   "cell_type": "markdown",
   "metadata": {
    "slideshow": {
     "slide_type": "slide"
    }
   },
   "source": [
    "<div class=\"alert alert-info\">\n",
    "    Now it's your turn. Find some stats for different fields in the data and output them below.\n",
    "    </div>"
   ]
  },
  {
   "cell_type": "code",
   "execution_count": 46,
   "metadata": {},
   "outputs": [
    {
     "ename": "KeyError",
     "evalue": "'pie'",
     "output_type": "error",
     "traceback": [
      "\u001b[0;31m---------------------------------------------------------------------------\u001b[0m",
      "\u001b[0;31mKeyError\u001b[0m                                  Traceback (most recent call last)",
      "File \u001b[0;32m~/.pyenv/versions/3.8.10/lib/python3.8/site-packages/pandas/core/indexes/base.py:3653\u001b[0m, in \u001b[0;36mIndex.get_loc\u001b[0;34m(self, key)\u001b[0m\n\u001b[1;32m   3652\u001b[0m \u001b[38;5;28;01mtry\u001b[39;00m:\n\u001b[0;32m-> 3653\u001b[0m     \u001b[38;5;28;01mreturn\u001b[39;00m \u001b[38;5;28;43mself\u001b[39;49m\u001b[38;5;241;43m.\u001b[39;49m\u001b[43m_engine\u001b[49m\u001b[38;5;241;43m.\u001b[39;49m\u001b[43mget_loc\u001b[49m\u001b[43m(\u001b[49m\u001b[43mcasted_key\u001b[49m\u001b[43m)\u001b[49m\n\u001b[1;32m   3654\u001b[0m \u001b[38;5;28;01mexcept\u001b[39;00m \u001b[38;5;167;01mKeyError\u001b[39;00m \u001b[38;5;28;01mas\u001b[39;00m err:\n",
      "File \u001b[0;32m~/.pyenv/versions/3.8.10/lib/python3.8/site-packages/pandas/_libs/index.pyx:147\u001b[0m, in \u001b[0;36mpandas._libs.index.IndexEngine.get_loc\u001b[0;34m()\u001b[0m\n",
      "File \u001b[0;32m~/.pyenv/versions/3.8.10/lib/python3.8/site-packages/pandas/_libs/index.pyx:176\u001b[0m, in \u001b[0;36mpandas._libs.index.IndexEngine.get_loc\u001b[0;34m()\u001b[0m\n",
      "File \u001b[0;32mpandas/_libs/hashtable_class_helper.pxi:7080\u001b[0m, in \u001b[0;36mpandas._libs.hashtable.PyObjectHashTable.get_item\u001b[0;34m()\u001b[0m\n",
      "File \u001b[0;32mpandas/_libs/hashtable_class_helper.pxi:7088\u001b[0m, in \u001b[0;36mpandas._libs.hashtable.PyObjectHashTable.get_item\u001b[0;34m()\u001b[0m\n",
      "\u001b[0;31mKeyError\u001b[0m: 'pie'",
      "\nThe above exception was the direct cause of the following exception:\n",
      "\u001b[0;31mKeyError\u001b[0m                                  Traceback (most recent call last)",
      "Cell \u001b[0;32mIn[46], line 1\u001b[0m\n\u001b[0;32m----> 1\u001b[0m \u001b[43mgdf\u001b[49m\u001b[38;5;241;43m.\u001b[39;49m\u001b[43mplot\u001b[49m\u001b[43m(\u001b[49m\u001b[38;5;124;43m\"\u001b[39;49m\u001b[38;5;124;43mpie\u001b[39;49m\u001b[38;5;124;43m\"\u001b[39;49m\u001b[43m,\u001b[49m\u001b[43m \u001b[49m\u001b[43msubplots\u001b[49m\u001b[38;5;241;43m=\u001b[39;49m\u001b[38;5;28;43;01mTrue\u001b[39;49;00m\u001b[43m)\u001b[49m\n",
      "File \u001b[0;32m~/.pyenv/versions/3.8.10/lib/python3.8/site-packages/geopandas/plotting.py:969\u001b[0m, in \u001b[0;36mGeoplotAccessor.__call__\u001b[0;34m(self, *args, **kwargs)\u001b[0m\n\u001b[1;32m    967\u001b[0m kind \u001b[38;5;241m=\u001b[39m kwargs\u001b[38;5;241m.\u001b[39mpop(\u001b[38;5;124m\"\u001b[39m\u001b[38;5;124mkind\u001b[39m\u001b[38;5;124m\"\u001b[39m, \u001b[38;5;124m\"\u001b[39m\u001b[38;5;124mgeo\u001b[39m\u001b[38;5;124m\"\u001b[39m)\n\u001b[1;32m    968\u001b[0m \u001b[38;5;28;01mif\u001b[39;00m kind \u001b[38;5;241m==\u001b[39m \u001b[38;5;124m\"\u001b[39m\u001b[38;5;124mgeo\u001b[39m\u001b[38;5;124m\"\u001b[39m:\n\u001b[0;32m--> 969\u001b[0m     \u001b[38;5;28;01mreturn\u001b[39;00m \u001b[43mplot_dataframe\u001b[49m\u001b[43m(\u001b[49m\u001b[43mdata\u001b[49m\u001b[43m,\u001b[49m\u001b[43m \u001b[49m\u001b[38;5;241;43m*\u001b[39;49m\u001b[43margs\u001b[49m\u001b[43m,\u001b[49m\u001b[43m \u001b[49m\u001b[38;5;241;43m*\u001b[39;49m\u001b[38;5;241;43m*\u001b[39;49m\u001b[43mkwargs\u001b[49m\u001b[43m)\u001b[49m\n\u001b[1;32m    970\u001b[0m \u001b[38;5;28;01mif\u001b[39;00m kind \u001b[38;5;129;01min\u001b[39;00m \u001b[38;5;28mself\u001b[39m\u001b[38;5;241m.\u001b[39m_pandas_kinds:\n\u001b[1;32m    971\u001b[0m     \u001b[38;5;66;03m# Access pandas plots\u001b[39;00m\n\u001b[1;32m    972\u001b[0m     \u001b[38;5;28;01mreturn\u001b[39;00m PlotAccessor(data)(kind\u001b[38;5;241m=\u001b[39mkind, \u001b[38;5;241m*\u001b[39m\u001b[38;5;241m*\u001b[39mkwargs)\n",
      "File \u001b[0;32m~/.pyenv/versions/3.8.10/lib/python3.8/site-packages/geopandas/plotting.py:730\u001b[0m, in \u001b[0;36mplot_dataframe\u001b[0;34m(df, column, cmap, color, ax, cax, categorical, legend, scheme, k, vmin, vmax, markersize, figsize, legend_kwds, categories, classification_kwds, missing_kwds, aspect, **style_kwds)\u001b[0m\n\u001b[1;32m    728\u001b[0m             values \u001b[38;5;241m=\u001b[39m values\u001b[38;5;241m.\u001b[39mreindex(df\u001b[38;5;241m.\u001b[39mindex)\n\u001b[1;32m    729\u001b[0m \u001b[38;5;28;01melse\u001b[39;00m:\n\u001b[0;32m--> 730\u001b[0m     values \u001b[38;5;241m=\u001b[39m \u001b[43mdf\u001b[49m\u001b[43m[\u001b[49m\u001b[43mcolumn\u001b[49m\u001b[43m]\u001b[49m\n\u001b[1;32m    732\u001b[0m \u001b[38;5;28;01mif\u001b[39;00m pd\u001b[38;5;241m.\u001b[39mapi\u001b[38;5;241m.\u001b[39mtypes\u001b[38;5;241m.\u001b[39mis_categorical_dtype(values\u001b[38;5;241m.\u001b[39mdtype):\n\u001b[1;32m    733\u001b[0m     \u001b[38;5;28;01mif\u001b[39;00m categories \u001b[38;5;129;01mis\u001b[39;00m \u001b[38;5;129;01mnot\u001b[39;00m \u001b[38;5;28;01mNone\u001b[39;00m:\n",
      "File \u001b[0;32m~/.pyenv/versions/3.8.10/lib/python3.8/site-packages/geopandas/geodataframe.py:1475\u001b[0m, in \u001b[0;36mGeoDataFrame.__getitem__\u001b[0;34m(self, key)\u001b[0m\n\u001b[1;32m   1469\u001b[0m \u001b[38;5;28;01mdef\u001b[39;00m \u001b[38;5;21m__getitem__\u001b[39m(\u001b[38;5;28mself\u001b[39m, key):\n\u001b[1;32m   1470\u001b[0m \u001b[38;5;250m    \u001b[39m\u001b[38;5;124;03m\"\"\"\u001b[39;00m\n\u001b[1;32m   1471\u001b[0m \u001b[38;5;124;03m    If the result is a column containing only 'geometry', return a\u001b[39;00m\n\u001b[1;32m   1472\u001b[0m \u001b[38;5;124;03m    GeoSeries. If it's a DataFrame with any columns of GeometryDtype,\u001b[39;00m\n\u001b[1;32m   1473\u001b[0m \u001b[38;5;124;03m    return a GeoDataFrame.\u001b[39;00m\n\u001b[1;32m   1474\u001b[0m \u001b[38;5;124;03m    \"\"\"\u001b[39;00m\n\u001b[0;32m-> 1475\u001b[0m     result \u001b[38;5;241m=\u001b[39m \u001b[38;5;28;43msuper\u001b[39;49m\u001b[43m(\u001b[49m\u001b[43m)\u001b[49m\u001b[38;5;241;43m.\u001b[39;49m\u001b[38;5;21;43m__getitem__\u001b[39;49m\u001b[43m(\u001b[49m\u001b[43mkey\u001b[49m\u001b[43m)\u001b[49m\n\u001b[1;32m   1476\u001b[0m     \u001b[38;5;66;03m# Custom logic to avoid waiting for pandas GH51895\u001b[39;00m\n\u001b[1;32m   1477\u001b[0m     \u001b[38;5;66;03m# result is not geometry dtype for multi-indexes\u001b[39;00m\n\u001b[1;32m   1478\u001b[0m     \u001b[38;5;28;01mif\u001b[39;00m (\n\u001b[1;32m   1479\u001b[0m         pd\u001b[38;5;241m.\u001b[39mapi\u001b[38;5;241m.\u001b[39mtypes\u001b[38;5;241m.\u001b[39mis_scalar(key)\n\u001b[1;32m   1480\u001b[0m         \u001b[38;5;129;01mand\u001b[39;00m key \u001b[38;5;241m==\u001b[39m \u001b[38;5;124m\"\u001b[39m\u001b[38;5;124m\"\u001b[39m\n\u001b[0;32m   (...)\u001b[0m\n\u001b[1;32m   1483\u001b[0m         \u001b[38;5;129;01mand\u001b[39;00m \u001b[38;5;129;01mnot\u001b[39;00m is_geometry_type(result)\n\u001b[1;32m   1484\u001b[0m     ):\n",
      "File \u001b[0;32m~/.pyenv/versions/3.8.10/lib/python3.8/site-packages/pandas/core/frame.py:3761\u001b[0m, in \u001b[0;36mDataFrame.__getitem__\u001b[0;34m(self, key)\u001b[0m\n\u001b[1;32m   3759\u001b[0m \u001b[38;5;28;01mif\u001b[39;00m \u001b[38;5;28mself\u001b[39m\u001b[38;5;241m.\u001b[39mcolumns\u001b[38;5;241m.\u001b[39mnlevels \u001b[38;5;241m>\u001b[39m \u001b[38;5;241m1\u001b[39m:\n\u001b[1;32m   3760\u001b[0m     \u001b[38;5;28;01mreturn\u001b[39;00m \u001b[38;5;28mself\u001b[39m\u001b[38;5;241m.\u001b[39m_getitem_multilevel(key)\n\u001b[0;32m-> 3761\u001b[0m indexer \u001b[38;5;241m=\u001b[39m \u001b[38;5;28;43mself\u001b[39;49m\u001b[38;5;241;43m.\u001b[39;49m\u001b[43mcolumns\u001b[49m\u001b[38;5;241;43m.\u001b[39;49m\u001b[43mget_loc\u001b[49m\u001b[43m(\u001b[49m\u001b[43mkey\u001b[49m\u001b[43m)\u001b[49m\n\u001b[1;32m   3762\u001b[0m \u001b[38;5;28;01mif\u001b[39;00m is_integer(indexer):\n\u001b[1;32m   3763\u001b[0m     indexer \u001b[38;5;241m=\u001b[39m [indexer]\n",
      "File \u001b[0;32m~/.pyenv/versions/3.8.10/lib/python3.8/site-packages/pandas/core/indexes/base.py:3655\u001b[0m, in \u001b[0;36mIndex.get_loc\u001b[0;34m(self, key)\u001b[0m\n\u001b[1;32m   3653\u001b[0m     \u001b[38;5;28;01mreturn\u001b[39;00m \u001b[38;5;28mself\u001b[39m\u001b[38;5;241m.\u001b[39m_engine\u001b[38;5;241m.\u001b[39mget_loc(casted_key)\n\u001b[1;32m   3654\u001b[0m \u001b[38;5;28;01mexcept\u001b[39;00m \u001b[38;5;167;01mKeyError\u001b[39;00m \u001b[38;5;28;01mas\u001b[39;00m err:\n\u001b[0;32m-> 3655\u001b[0m     \u001b[38;5;28;01mraise\u001b[39;00m \u001b[38;5;167;01mKeyError\u001b[39;00m(key) \u001b[38;5;28;01mfrom\u001b[39;00m \u001b[38;5;21;01merr\u001b[39;00m\n\u001b[1;32m   3656\u001b[0m \u001b[38;5;28;01mexcept\u001b[39;00m \u001b[38;5;167;01mTypeError\u001b[39;00m:\n\u001b[1;32m   3657\u001b[0m     \u001b[38;5;66;03m# If we have a listlike key, _check_indexing_error will raise\u001b[39;00m\n\u001b[1;32m   3658\u001b[0m     \u001b[38;5;66;03m#  InvalidIndexError. Otherwise we fall through and re-raise\u001b[39;00m\n\u001b[1;32m   3659\u001b[0m     \u001b[38;5;66;03m#  the TypeError.\u001b[39;00m\n\u001b[1;32m   3660\u001b[0m     \u001b[38;5;28mself\u001b[39m\u001b[38;5;241m.\u001b[39m_check_indexing_error(key)\n",
      "\u001b[0;31mKeyError\u001b[0m: 'pie'"
     ]
    },
    {
     "data": {
      "image/png": "[encoded data removed]",
      "text/plain": [
       "<Figure size 640x480 with 1 Axes>"
      ]
     },
     "metadata": {},
     "output_type": "display_data"
    }
   ],
   "source": []
  },
  {
   "cell_type": "markdown",
   "metadata": {
    "slideshow": {
     "slide_type": "slide"
    }
   },
   "source": [
    "## Sorting\n",
    "What are the top 10 most populated census tracts? What are the census tracts with the highest black popluation? To answer these questions, the simplest method is to sort the data by their respective columns.\n",
    "\n",
    "- [pandas sort_values](https://pandas.pydata.org/pandas-docs/stable/reference/api/pandas.DataFrame.sort_values.html)"
   ]
  },
  {
   "cell_type": "code",
   "execution_count": 47,
   "metadata": {},
   "outputs": [],
   "source": [
    "gdf_sorted = gdf.sort_values(by='Total',ascending = False)"
   ]
  },
  {
   "cell_type": "code",
   "execution_count": 48,
   "metadata": {
    "slideshow": {
     "slide_type": "slide"
    }
   },
   "outputs": [
    {
     "data": {
      "text/html": [
       "<div>\n",
       "<style scoped>\n",
       "    .dataframe tbody tr th:only-of-type {\n",
       "        vertical-align: middle;\n",
       "    }\n",
       "\n",
       "    .dataframe tbody tr th {\n",
       "        vertical-align: top;\n",
       "    }\n",
       "\n",
       "    .dataframe thead th {\n",
       "        text-align: right;\n",
       "    }\n",
       "</style>\n",
       "<table border=\"1\" class=\"dataframe\">\n",
       "  <thead>\n",
       "    <tr style=\"text-align: right;\">\n",
       "      <th></th>\n",
       "      <th>geoid</th>\n",
       "      <th>Total</th>\n",
       "    </tr>\n",
       "  </thead>\n",
       "  <tbody>\n",
       "    <tr>\n",
       "      <th>939</th>\n",
       "      <td>14000US06037265301</td>\n",
       "      <td>13830.0</td>\n",
       "    </tr>\n",
       "    <tr>\n",
       "      <th>581</th>\n",
       "      <td>14000US06037206020</td>\n",
       "      <td>10614.0</td>\n",
       "    </tr>\n",
       "    <tr>\n",
       "      <th>2439</th>\n",
       "      <td>14000US06037920121</td>\n",
       "      <td>10391.0</td>\n",
       "    </tr>\n",
       "    <tr>\n",
       "      <th>1029</th>\n",
       "      <td>14000US06037275604</td>\n",
       "      <td>9814.0</td>\n",
       "    </tr>\n",
       "    <tr>\n",
       "      <th>2279</th>\n",
       "      <td>14000US06037702900</td>\n",
       "      <td>9355.0</td>\n",
       "    </tr>\n",
       "    <tr>\n",
       "      <th>2407</th>\n",
       "      <td>14000US06037920028</td>\n",
       "      <td>9158.0</td>\n",
       "    </tr>\n",
       "    <tr>\n",
       "      <th>1605</th>\n",
       "      <td>14000US06037502303</td>\n",
       "      <td>8883.0</td>\n",
       "    </tr>\n",
       "    <tr>\n",
       "      <th>70</th>\n",
       "      <td>14000US06037108202</td>\n",
       "      <td>8776.0</td>\n",
       "    </tr>\n",
       "    <tr>\n",
       "      <th>2418</th>\n",
       "      <td>14000US06037920043</td>\n",
       "      <td>8468.0</td>\n",
       "    </tr>\n",
       "    <tr>\n",
       "      <th>1208</th>\n",
       "      <td>14000US06037401707</td>\n",
       "      <td>8464.0</td>\n",
       "    </tr>\n",
       "  </tbody>\n",
       "</table>\n",
       "</div>"
      ],
      "text/plain": [
       "                   geoid    Total\n",
       "939   14000US06037265301  13830.0\n",
       "581   14000US06037206020  10614.0\n",
       "2439  14000US06037920121  10391.0\n",
       "1029  14000US06037275604   9814.0\n",
       "2279  14000US06037702900   9355.0\n",
       "2407  14000US06037920028   9158.0\n",
       "1605  14000US06037502303   8883.0\n",
       "70    14000US06037108202   8776.0\n",
       "2418  14000US06037920043   8468.0\n",
       "1208  14000US06037401707   8464.0"
      ]
     },
     "execution_count": 48,
     "metadata": {},
     "output_type": "execute_result"
    }
   ],
   "source": [
    "# display the data, but just a few columns to keep it clean\n",
    "gdf_sorted[['geoid','Total']].head(10)"
   ]
  },
  {
   "cell_type": "code",
   "execution_count": 49,
   "metadata": {
    "slideshow": {
     "slide_type": "slide"
    }
   },
   "outputs": [
    {
     "data": {
      "text/plain": [
       "<Axes: >"
      ]
     },
     "execution_count": 49,
     "metadata": {},
     "output_type": "execute_result"
    },
    {
     "data": {
      "image/png": "[encoded data removed]",
      "text/plain": [
       "<Figure size 1000x1000 with 1 Axes>"
      ]
     },
     "metadata": {},
     "output_type": "display_data"
    }
   ],
   "source": [
    "# plot the top 10 most populated tracts\n",
    "gdf_sorted.head(10).plot(figsize=(10,10))"
   ]
  },
  {
   "cell_type": "code",
   "execution_count": 50,
   "metadata": {
    "slideshow": {
     "slide_type": "slide"
    }
   },
   "outputs": [
    {
     "data": {
      "text/plain": [
       "<Axes: >"
      ]
     },
     "execution_count": 50,
     "metadata": {},
     "output_type": "execute_result"
    },
    {
     "data": {
      "image/png": "[encoded data removed]",
      "text/plain": [
       "<Figure size 1000x1000 with 2 Axes>"
      ]
     },
     "metadata": {},
     "output_type": "display_data"
    }
   ],
   "source": [
    "# Make it 100 and prettier\n",
    "gdf_sorted.head(1000).plot(figsize=(10,10),\n",
    "                          column='Total', \n",
    "                          cmap='plasma', \n",
    "                          legend=True)"
   ]
  },
  {
   "cell_type": "markdown",
   "metadata": {
    "slideshow": {
     "slide_type": "slide"
    }
   },
   "source": [
    "<div class=\"alert alert-info\">\n",
    "Now it's your turn! Create a table and accompanying bar plot for the top/bottom x values for column of your choice.\n",
    "</div>"
   ]
  },
  {
   "cell_type": "code",
   "execution_count": null,
   "metadata": {},
   "outputs": [],
   "source": []
  },
  {
   "cell_type": "markdown",
   "metadata": {
    "slideshow": {
     "slide_type": "slide"
    }
   },
   "source": [
    "## Filtering and subsetting data\n",
    "Sorting is one method, but the process of discovery compels us to interrogate the data in different ways. One method of doing so is to query, or filter the data to see specific views of the data based on a question you may have. For example, what are the census tract that have no people in them? Or, Which census tracts are more than 75% black?"
   ]
  },
  {
   "cell_type": "code",
   "execution_count": 51,
   "metadata": {
    "scrolled": true,
    "slideshow": {
     "slide_type": "slide"
    }
   },
   "outputs": [
    {
     "data": {
      "text/html": [
       "<div>\n",
       "<style scoped>\n",
       "    .dataframe tbody tr th:only-of-type {\n",
       "        vertical-align: middle;\n",
       "    }\n",
       "\n",
       "    .dataframe tbody tr th {\n",
       "        vertical-align: top;\n",
       "    }\n",
       "\n",
       "    .dataframe thead th {\n",
       "        text-align: right;\n",
       "    }\n",
       "</style>\n",
       "<table border=\"1\" class=\"dataframe\">\n",
       "  <thead>\n",
       "    <tr style=\"text-align: right;\">\n",
       "      <th></th>\n",
       "      <th>geoid</th>\n",
       "      <th>name</th>\n",
       "      <th>Total</th>\n",
       "      <th>Non Hispanic</th>\n",
       "      <th>Non Hispanic White</th>\n",
       "      <th>Non Hispanic Black</th>\n",
       "      <th>Non Hispanic American Indian and Alaska Native</th>\n",
       "      <th>Non Hispanic Asian</th>\n",
       "      <th>Non Hispanic Native Hawaiian and Other Pacific Islander</th>\n",
       "      <th>Non Hispanic Some other race</th>\n",
       "      <th>Non Hispanic Two or more races</th>\n",
       "      <th>Hispanic</th>\n",
       "      <th>geometry</th>\n",
       "    </tr>\n",
       "  </thead>\n",
       "  <tbody>\n",
       "    <tr>\n",
       "      <th>2460</th>\n",
       "      <td>14000US06037980001</td>\n",
       "      <td>Census Tract 9800.01, Los Angeles, CA</td>\n",
       "      <td>0.0</td>\n",
       "      <td>0.0</td>\n",
       "      <td>0.0</td>\n",
       "      <td>0.0</td>\n",
       "      <td>0.0</td>\n",
       "      <td>0.0</td>\n",
       "      <td>0.0</td>\n",
       "      <td>0.0</td>\n",
       "      <td>0.0</td>\n",
       "      <td>0.0</td>\n",
       "      <td>MULTIPOLYGON (((-118.37031 34.20120, -118.3658...</td>\n",
       "    </tr>\n",
       "    <tr>\n",
       "      <th>2461</th>\n",
       "      <td>14000US06037980002</td>\n",
       "      <td>Census Tract 9800.02, Los Angeles, CA</td>\n",
       "      <td>0.0</td>\n",
       "      <td>0.0</td>\n",
       "      <td>0.0</td>\n",
       "      <td>0.0</td>\n",
       "      <td>0.0</td>\n",
       "      <td>0.0</td>\n",
       "      <td>0.0</td>\n",
       "      <td>0.0</td>\n",
       "      <td>0.0</td>\n",
       "      <td>0.0</td>\n",
       "      <td>MULTIPOLYGON (((-118.25753 33.80197, -118.2571...</td>\n",
       "    </tr>\n",
       "    <tr>\n",
       "      <th>2462</th>\n",
       "      <td>14000US06037980003</td>\n",
       "      <td>Census Tract 9800.03, Los Angeles, CA</td>\n",
       "      <td>0.0</td>\n",
       "      <td>0.0</td>\n",
       "      <td>0.0</td>\n",
       "      <td>0.0</td>\n",
       "      <td>0.0</td>\n",
       "      <td>0.0</td>\n",
       "      <td>0.0</td>\n",
       "      <td>0.0</td>\n",
       "      <td>0.0</td>\n",
       "      <td>0.0</td>\n",
       "      <td>MULTIPOLYGON (((-118.14019 34.78468, -118.1401...</td>\n",
       "    </tr>\n",
       "    <tr>\n",
       "      <th>2463</th>\n",
       "      <td>14000US06037980004</td>\n",
       "      <td>Census Tract 9800.04, Los Angeles, CA</td>\n",
       "      <td>0.0</td>\n",
       "      <td>0.0</td>\n",
       "      <td>0.0</td>\n",
       "      <td>0.0</td>\n",
       "      <td>0.0</td>\n",
       "      <td>0.0</td>\n",
       "      <td>0.0</td>\n",
       "      <td>0.0</td>\n",
       "      <td>0.0</td>\n",
       "      <td>0.0</td>\n",
       "      <td>MULTIPOLYGON (((-118.12795 34.64587, -118.1274...</td>\n",
       "    </tr>\n",
       "    <tr>\n",
       "      <th>2464</th>\n",
       "      <td>14000US06037980005</td>\n",
       "      <td>Census Tract 9800.05, Los Angeles, CA</td>\n",
       "      <td>0.0</td>\n",
       "      <td>0.0</td>\n",
       "      <td>0.0</td>\n",
       "      <td>0.0</td>\n",
       "      <td>0.0</td>\n",
       "      <td>0.0</td>\n",
       "      <td>0.0</td>\n",
       "      <td>0.0</td>\n",
       "      <td>0.0</td>\n",
       "      <td>0.0</td>\n",
       "      <td>MULTIPOLYGON (((-118.35210 33.85818, -118.3517...</td>\n",
       "    </tr>\n",
       "    <tr>\n",
       "      <th>2465</th>\n",
       "      <td>14000US06037980006</td>\n",
       "      <td>Census Tract 9800.06, Los Angeles, CA</td>\n",
       "      <td>0.0</td>\n",
       "      <td>0.0</td>\n",
       "      <td>0.0</td>\n",
       "      <td>0.0</td>\n",
       "      <td>0.0</td>\n",
       "      <td>0.0</td>\n",
       "      <td>0.0</td>\n",
       "      <td>0.0</td>\n",
       "      <td>0.0</td>\n",
       "      <td>0.0</td>\n",
       "      <td>MULTIPOLYGON (((-118.09420 33.78670, -118.0941...</td>\n",
       "    </tr>\n",
       "    <tr>\n",
       "      <th>2466</th>\n",
       "      <td>14000US06037980007</td>\n",
       "      <td>Census Tract 9800.07, Los Angeles, CA</td>\n",
       "      <td>0.0</td>\n",
       "      <td>0.0</td>\n",
       "      <td>0.0</td>\n",
       "      <td>0.0</td>\n",
       "      <td>0.0</td>\n",
       "      <td>0.0</td>\n",
       "      <td>0.0</td>\n",
       "      <td>0.0</td>\n",
       "      <td>0.0</td>\n",
       "      <td>0.0</td>\n",
       "      <td>MULTIPOLYGON (((-118.11512 33.76305, -118.1135...</td>\n",
       "    </tr>\n",
       "    <tr>\n",
       "      <th>2472</th>\n",
       "      <td>14000US06037980013</td>\n",
       "      <td>Census Tract 9800.13, Los Angeles, CA</td>\n",
       "      <td>0.0</td>\n",
       "      <td>0.0</td>\n",
       "      <td>0.0</td>\n",
       "      <td>0.0</td>\n",
       "      <td>0.0</td>\n",
       "      <td>0.0</td>\n",
       "      <td>0.0</td>\n",
       "      <td>0.0</td>\n",
       "      <td>0.0</td>\n",
       "      <td>0.0</td>\n",
       "      <td>MULTIPOLYGON (((-118.39627 33.92804, -118.3962...</td>\n",
       "    </tr>\n",
       "    <tr>\n",
       "      <th>2477</th>\n",
       "      <td>14000US06037980018</td>\n",
       "      <td>Census Tract 9800.18, Los Angeles, CA</td>\n",
       "      <td>0.0</td>\n",
       "      <td>0.0</td>\n",
       "      <td>0.0</td>\n",
       "      <td>0.0</td>\n",
       "      <td>0.0</td>\n",
       "      <td>0.0</td>\n",
       "      <td>0.0</td>\n",
       "      <td>0.0</td>\n",
       "      <td>0.0</td>\n",
       "      <td>0.0</td>\n",
       "      <td>MULTIPOLYGON (((-118.18066 33.80597, -118.1806...</td>\n",
       "    </tr>\n",
       "    <tr>\n",
       "      <th>2479</th>\n",
       "      <td>14000US06037980020</td>\n",
       "      <td>Census Tract 9800.20, Los Angeles, CA</td>\n",
       "      <td>0.0</td>\n",
       "      <td>0.0</td>\n",
       "      <td>0.0</td>\n",
       "      <td>0.0</td>\n",
       "      <td>0.0</td>\n",
       "      <td>0.0</td>\n",
       "      <td>0.0</td>\n",
       "      <td>0.0</td>\n",
       "      <td>0.0</td>\n",
       "      <td>0.0</td>\n",
       "      <td>MULTIPOLYGON (((-118.34414 34.21615, -118.3441...</td>\n",
       "    </tr>\n",
       "    <tr>\n",
       "      <th>2481</th>\n",
       "      <td>14000US06037980022</td>\n",
       "      <td>Census Tract 9800.22, Los Angeles, CA</td>\n",
       "      <td>0.0</td>\n",
       "      <td>0.0</td>\n",
       "      <td>0.0</td>\n",
       "      <td>0.0</td>\n",
       "      <td>0.0</td>\n",
       "      <td>0.0</td>\n",
       "      <td>0.0</td>\n",
       "      <td>0.0</td>\n",
       "      <td>0.0</td>\n",
       "      <td>0.0</td>\n",
       "      <td>MULTIPOLYGON (((-118.50266 34.30809, -118.5026...</td>\n",
       "    </tr>\n",
       "    <tr>\n",
       "      <th>2482</th>\n",
       "      <td>14000US06037980023</td>\n",
       "      <td>Census Tract 9800.23, Los Angeles, CA</td>\n",
       "      <td>0.0</td>\n",
       "      <td>0.0</td>\n",
       "      <td>0.0</td>\n",
       "      <td>0.0</td>\n",
       "      <td>0.0</td>\n",
       "      <td>0.0</td>\n",
       "      <td>0.0</td>\n",
       "      <td>0.0</td>\n",
       "      <td>0.0</td>\n",
       "      <td>0.0</td>\n",
       "      <td>MULTIPOLYGON (((-118.64870 34.23120, -118.6480...</td>\n",
       "    </tr>\n",
       "    <tr>\n",
       "      <th>2486</th>\n",
       "      <td>14000US06037980028</td>\n",
       "      <td>Census Tract 9800.28, Los Angeles, CA</td>\n",
       "      <td>0.0</td>\n",
       "      <td>0.0</td>\n",
       "      <td>0.0</td>\n",
       "      <td>0.0</td>\n",
       "      <td>0.0</td>\n",
       "      <td>0.0</td>\n",
       "      <td>0.0</td>\n",
       "      <td>0.0</td>\n",
       "      <td>0.0</td>\n",
       "      <td>0.0</td>\n",
       "      <td>MULTIPOLYGON (((-118.45246 33.94315, -118.4464...</td>\n",
       "    </tr>\n",
       "    <tr>\n",
       "      <th>2487</th>\n",
       "      <td>14000US06037980030</td>\n",
       "      <td>Census Tract 9800.30, Los Angeles, CA</td>\n",
       "      <td>0.0</td>\n",
       "      <td>0.0</td>\n",
       "      <td>0.0</td>\n",
       "      <td>0.0</td>\n",
       "      <td>0.0</td>\n",
       "      <td>0.0</td>\n",
       "      <td>0.0</td>\n",
       "      <td>0.0</td>\n",
       "      <td>0.0</td>\n",
       "      <td>0.0</td>\n",
       "      <td>MULTIPOLYGON (((-118.43698 33.91631, -118.4344...</td>\n",
       "    </tr>\n",
       "    <tr>\n",
       "      <th>2493</th>\n",
       "      <td>14000US06037980037</td>\n",
       "      <td>Census Tract 9800.37, Los Angeles, CA</td>\n",
       "      <td>0.0</td>\n",
       "      <td>0.0</td>\n",
       "      <td>0.0</td>\n",
       "      <td>0.0</td>\n",
       "      <td>0.0</td>\n",
       "      <td>0.0</td>\n",
       "      <td>0.0</td>\n",
       "      <td>0.0</td>\n",
       "      <td>0.0</td>\n",
       "      <td>0.0</td>\n",
       "      <td>MULTIPOLYGON (((-118.28888 33.80246, -118.2888...</td>\n",
       "    </tr>\n",
       "    <tr>\n",
       "      <th>2494</th>\n",
       "      <td>14000US06037980038</td>\n",
       "      <td>Census Tract 9800.38, Los Angeles, CA</td>\n",
       "      <td>0.0</td>\n",
       "      <td>0.0</td>\n",
       "      <td>0.0</td>\n",
       "      <td>0.0</td>\n",
       "      <td>0.0</td>\n",
       "      <td>0.0</td>\n",
       "      <td>0.0</td>\n",
       "      <td>0.0</td>\n",
       "      <td>0.0</td>\n",
       "      <td>0.0</td>\n",
       "      <td>MULTIPOLYGON (((-118.39099 34.00167, -118.3909...</td>\n",
       "    </tr>\n",
       "    <tr>\n",
       "      <th>2495</th>\n",
       "      <td>14000US06037980039</td>\n",
       "      <td>Census Tract 9800.39, Los Angeles, CA</td>\n",
       "      <td>0.0</td>\n",
       "      <td>0.0</td>\n",
       "      <td>0.0</td>\n",
       "      <td>0.0</td>\n",
       "      <td>0.0</td>\n",
       "      <td>0.0</td>\n",
       "      <td>0.0</td>\n",
       "      <td>0.0</td>\n",
       "      <td>0.0</td>\n",
       "      <td>0.0</td>\n",
       "      <td>MULTIPOLYGON (((-118.36215 34.13903, -118.3612...</td>\n",
       "    </tr>\n",
       "    <tr>\n",
       "      <th>2496</th>\n",
       "      <td>14000US06037990100</td>\n",
       "      <td>Census Tract 9901, Los Angeles, CA</td>\n",
       "      <td>0.0</td>\n",
       "      <td>0.0</td>\n",
       "      <td>0.0</td>\n",
       "      <td>0.0</td>\n",
       "      <td>0.0</td>\n",
       "      <td>0.0</td>\n",
       "      <td>0.0</td>\n",
       "      <td>0.0</td>\n",
       "      <td>0.0</td>\n",
       "      <td>0.0</td>\n",
       "      <td>MULTIPOLYGON (((-118.95114 33.99643, -118.9505...</td>\n",
       "    </tr>\n",
       "    <tr>\n",
       "      <th>2497</th>\n",
       "      <td>14000US06037990200</td>\n",
       "      <td>Census Tract 9902, Los Angeles, CA</td>\n",
       "      <td>0.0</td>\n",
       "      <td>0.0</td>\n",
       "      <td>0.0</td>\n",
       "      <td>0.0</td>\n",
       "      <td>0.0</td>\n",
       "      <td>0.0</td>\n",
       "      <td>0.0</td>\n",
       "      <td>0.0</td>\n",
       "      <td>0.0</td>\n",
       "      <td>0.0</td>\n",
       "      <td>MULTIPOLYGON (((-118.63598 34.03255, -118.6325...</td>\n",
       "    </tr>\n",
       "    <tr>\n",
       "      <th>2498</th>\n",
       "      <td>14000US06037990300</td>\n",
       "      <td>Census Tract 9903, Los Angeles, CA</td>\n",
       "      <td>0.0</td>\n",
       "      <td>0.0</td>\n",
       "      <td>0.0</td>\n",
       "      <td>0.0</td>\n",
       "      <td>0.0</td>\n",
       "      <td>0.0</td>\n",
       "      <td>0.0</td>\n",
       "      <td>0.0</td>\n",
       "      <td>0.0</td>\n",
       "      <td>0.0</td>\n",
       "      <td>MULTIPOLYGON (((-118.47656 33.75038, -118.4661...</td>\n",
       "    </tr>\n",
       "  </tbody>\n",
       "</table>\n",
       "</div>"
      ],
      "text/plain": [
       "                   geoid                                   name  Total  \\\n",
       "2460  14000US06037980001  Census Tract 9800.01, Los Angeles, CA    0.0   \n",
       "2461  14000US06037980002  Census Tract 9800.02, Los Angeles, CA    0.0   \n",
       "2462  14000US06037980003  Census Tract 9800.03, Los Angeles, CA    0.0   \n",
       "2463  14000US06037980004  Census Tract 9800.04, Los Angeles, CA    0.0   \n",
       "2464  14000US06037980005  Census Tract 9800.05, Los Angeles, CA    0.0   \n",
       "2465  14000US06037980006  Census Tract 9800.06, Los Angeles, CA    0.0   \n",
       "2466  14000US06037980007  Census Tract 9800.07, Los Angeles, CA    0.0   \n",
       "2472  14000US06037980013  Census Tract 9800.13, Los Angeles, CA    0.0   \n",
       "2477  14000US06037980018  Census Tract 9800.18, Los Angeles, CA    0.0   \n",
       "2479  14000US06037980020  Census Tract 9800.20, Los Angeles, CA    0.0   \n",
       "2481  14000US06037980022  Census Tract 9800.22, Los Angeles, CA    0.0   \n",
       "2482  14000US06037980023  Census Tract 9800.23, Los Angeles, CA    0.0   \n",
       "2486  14000US06037980028  Census Tract 9800.28, Los Angeles, CA    0.0   \n",
       "2487  14000US06037980030  Census Tract 9800.30, Los Angeles, CA    0.0   \n",
       "2493  14000US06037980037  Census Tract 9800.37, Los Angeles, CA    0.0   \n",
       "2494  14000US06037980038  Census Tract 9800.38, Los Angeles, CA    0.0   \n",
       "2495  14000US06037980039  Census Tract 9800.39, Los Angeles, CA    0.0   \n",
       "2496  14000US06037990100     Census Tract 9901, Los Angeles, CA    0.0   \n",
       "2497  14000US06037990200     Census Tract 9902, Los Angeles, CA    0.0   \n",
       "2498  14000US06037990300     Census Tract 9903, Los Angeles, CA    0.0   \n",
       "\n",
       "      Non Hispanic  Non Hispanic White  Non Hispanic Black  \\\n",
       "2460           0.0                 0.0                 0.0   \n",
       "2461           0.0                 0.0                 0.0   \n",
       "2462           0.0                 0.0                 0.0   \n",
       "2463           0.0                 0.0                 0.0   \n",
       "2464           0.0                 0.0                 0.0   \n",
       "2465           0.0                 0.0                 0.0   \n",
       "2466           0.0                 0.0                 0.0   \n",
       "2472           0.0                 0.0                 0.0   \n",
       "2477           0.0                 0.0                 0.0   \n",
       "2479           0.0                 0.0                 0.0   \n",
       "2481           0.0                 0.0                 0.0   \n",
       "2482           0.0                 0.0                 0.0   \n",
       "2486           0.0                 0.0                 0.0   \n",
       "2487           0.0                 0.0                 0.0   \n",
       "2493           0.0                 0.0                 0.0   \n",
       "2494           0.0                 0.0                 0.0   \n",
       "2495           0.0                 0.0                 0.0   \n",
       "2496           0.0                 0.0                 0.0   \n",
       "2497           0.0                 0.0                 0.0   \n",
       "2498           0.0                 0.0                 0.0   \n",
       "\n",
       "      Non Hispanic American Indian and Alaska Native  Non Hispanic Asian  \\\n",
       "2460                                             0.0                 0.0   \n",
       "2461                                             0.0                 0.0   \n",
       "2462                                             0.0                 0.0   \n",
       "2463                                             0.0                 0.0   \n",
       "2464                                             0.0                 0.0   \n",
       "2465                                             0.0                 0.0   \n",
       "2466                                             0.0                 0.0   \n",
       "2472                                             0.0                 0.0   \n",
       "2477                                             0.0                 0.0   \n",
       "2479                                             0.0                 0.0   \n",
       "2481                                             0.0                 0.0   \n",
       "2482                                             0.0                 0.0   \n",
       "2486                                             0.0                 0.0   \n",
       "2487                                             0.0                 0.0   \n",
       "2493                                             0.0                 0.0   \n",
       "2494                                             0.0                 0.0   \n",
       "2495                                             0.0                 0.0   \n",
       "2496                                             0.0                 0.0   \n",
       "2497                                             0.0                 0.0   \n",
       "2498                                             0.0                 0.0   \n",
       "\n",
       "      Non Hispanic Native Hawaiian and Other Pacific Islander  \\\n",
       "2460                                                0.0         \n",
       "2461                                                0.0         \n",
       "2462                                                0.0         \n",
       "2463                                                0.0         \n",
       "2464                                                0.0         \n",
       "2465                                                0.0         \n",
       "2466                                                0.0         \n",
       "2472                                                0.0         \n",
       "2477                                                0.0         \n",
       "2479                                                0.0         \n",
       "2481                                                0.0         \n",
       "2482                                                0.0         \n",
       "2486                                                0.0         \n",
       "2487                                                0.0         \n",
       "2493                                                0.0         \n",
       "2494                                                0.0         \n",
       "2495                                                0.0         \n",
       "2496                                                0.0         \n",
       "2497                                                0.0         \n",
       "2498                                                0.0         \n",
       "\n",
       "      Non Hispanic Some other race  Non Hispanic Two or more races  Hispanic  \\\n",
       "2460                           0.0                             0.0       0.0   \n",
       "2461                           0.0                             0.0       0.0   \n",
       "2462                           0.0                             0.0       0.0   \n",
       "2463                           0.0                             0.0       0.0   \n",
       "2464                           0.0                             0.0       0.0   \n",
       "2465                           0.0                             0.0       0.0   \n",
       "2466                           0.0                             0.0       0.0   \n",
       "2472                           0.0                             0.0       0.0   \n",
       "2477                           0.0                             0.0       0.0   \n",
       "2479                           0.0                             0.0       0.0   \n",
       "2481                           0.0                             0.0       0.0   \n",
       "2482                           0.0                             0.0       0.0   \n",
       "2486                           0.0                             0.0       0.0   \n",
       "2487                           0.0                             0.0       0.0   \n",
       "2493                           0.0                             0.0       0.0   \n",
       "2494                           0.0                             0.0       0.0   \n",
       "2495                           0.0                             0.0       0.0   \n",
       "2496                           0.0                             0.0       0.0   \n",
       "2497                           0.0                             0.0       0.0   \n",
       "2498                           0.0                             0.0       0.0   \n",
       "\n",
       "                                               geometry  \n",
       "2460  MULTIPOLYGON (((-118.37031 34.20120, -118.3658...  \n",
       "2461  MULTIPOLYGON (((-118.25753 33.80197, -118.2571...  \n",
       "2462  MULTIPOLYGON (((-118.14019 34.78468, -118.1401...  \n",
       "2463  MULTIPOLYGON (((-118.12795 34.64587, -118.1274...  \n",
       "2464  MULTIPOLYGON (((-118.35210 33.85818, -118.3517...  \n",
       "2465  MULTIPOLYGON (((-118.09420 33.78670, -118.0941...  \n",
       "2466  MULTIPOLYGON (((-118.11512 33.76305, -118.1135...  \n",
       "2472  MULTIPOLYGON (((-118.39627 33.92804, -118.3962...  \n",
       "2477  MULTIPOLYGON (((-118.18066 33.80597, -118.1806...  \n",
       "2479  MULTIPOLYGON (((-118.34414 34.21615, -118.3441...  \n",
       "2481  MULTIPOLYGON (((-118.50266 34.30809, -118.5026...  \n",
       "2482  MULTIPOLYGON (((-118.64870 34.23120, -118.6480...  \n",
       "2486  MULTIPOLYGON (((-118.45246 33.94315, -118.4464...  \n",
       "2487  MULTIPOLYGON (((-118.43698 33.91631, -118.4344...  \n",
       "2493  MULTIPOLYGON (((-118.28888 33.80246, -118.2888...  \n",
       "2494  MULTIPOLYGON (((-118.39099 34.00167, -118.3909...  \n",
       "2495  MULTIPOLYGON (((-118.36215 34.13903, -118.3612...  \n",
       "2496  MULTIPOLYGON (((-118.95114 33.99643, -118.9505...  \n",
       "2497  MULTIPOLYGON (((-118.63598 34.03255, -118.6325...  \n",
       "2498  MULTIPOLYGON (((-118.47656 33.75038, -118.4661...  "
      ]
     },
     "execution_count": 51,
     "metadata": {},
     "output_type": "execute_result"
    }
   ],
   "source": [
    "# subset the data so that we can see the data per row... \n",
    "# in other words, this syntax is asking to \"show me the values in my dataframe that match this filter\n",
    "gdf[gdf['Total']==0]"
   ]
  },
  {
   "cell_type": "markdown",
   "metadata": {
    "slideshow": {
     "slide_type": "slide"
    }
   },
   "source": [
    "Note that unless you specify the resulting output as a new variable, the results are only temporary (in memory). If you want to use the results for subsequent analysis, you need to create a new variable."
   ]
  },
  {
   "cell_type": "code",
   "execution_count": 52,
   "metadata": {},
   "outputs": [],
   "source": [
    "# create a new variable for census tracts with zero pop\n",
    "gdf_no_pop = gdf[gdf['Total']==0]"
   ]
  },
  {
   "cell_type": "code",
   "execution_count": 53,
   "metadata": {
    "slideshow": {
     "slide_type": "slide"
    }
   },
   "outputs": [
    {
     "name": "stdout",
     "output_type": "stream",
     "text": [
      "There are 20 census tracts with no people in them\n"
     ]
    }
   ],
   "source": [
    "# how many records?\n",
    "print('There are ' + str(len(gdf_no_pop)) + ' census tracts with no people in them')"
   ]
  },
  {
   "cell_type": "code",
   "execution_count": 54,
   "metadata": {
    "slideshow": {
     "slide_type": "fragment"
    }
   },
   "outputs": [
    {
     "data": {
      "text/html": [
       "<div>\n",
       "<style scoped>\n",
       "    .dataframe tbody tr th:only-of-type {\n",
       "        vertical-align: middle;\n",
       "    }\n",
       "\n",
       "    .dataframe tbody tr th {\n",
       "        vertical-align: top;\n",
       "    }\n",
       "\n",
       "    .dataframe thead th {\n",
       "        text-align: right;\n",
       "    }\n",
       "</style>\n",
       "<table border=\"1\" class=\"dataframe\">\n",
       "  <thead>\n",
       "    <tr style=\"text-align: right;\">\n",
       "      <th></th>\n",
       "      <th>geoid</th>\n",
       "      <th>Total</th>\n",
       "    </tr>\n",
       "  </thead>\n",
       "  <tbody>\n",
       "    <tr>\n",
       "      <th>2460</th>\n",
       "      <td>14000US06037980001</td>\n",
       "      <td>0.0</td>\n",
       "    </tr>\n",
       "    <tr>\n",
       "      <th>2461</th>\n",
       "      <td>14000US06037980002</td>\n",
       "      <td>0.0</td>\n",
       "    </tr>\n",
       "    <tr>\n",
       "      <th>2462</th>\n",
       "      <td>14000US06037980003</td>\n",
       "      <td>0.0</td>\n",
       "    </tr>\n",
       "    <tr>\n",
       "      <th>2463</th>\n",
       "      <td>14000US06037980004</td>\n",
       "      <td>0.0</td>\n",
       "    </tr>\n",
       "    <tr>\n",
       "      <th>2464</th>\n",
       "      <td>14000US06037980005</td>\n",
       "      <td>0.0</td>\n",
       "    </tr>\n",
       "    <tr>\n",
       "      <th>2465</th>\n",
       "      <td>14000US06037980006</td>\n",
       "      <td>0.0</td>\n",
       "    </tr>\n",
       "    <tr>\n",
       "      <th>2466</th>\n",
       "      <td>14000US06037980007</td>\n",
       "      <td>0.0</td>\n",
       "    </tr>\n",
       "    <tr>\n",
       "      <th>2472</th>\n",
       "      <td>14000US06037980013</td>\n",
       "      <td>0.0</td>\n",
       "    </tr>\n",
       "    <tr>\n",
       "      <th>2477</th>\n",
       "      <td>14000US06037980018</td>\n",
       "      <td>0.0</td>\n",
       "    </tr>\n",
       "    <tr>\n",
       "      <th>2479</th>\n",
       "      <td>14000US06037980020</td>\n",
       "      <td>0.0</td>\n",
       "    </tr>\n",
       "    <tr>\n",
       "      <th>2481</th>\n",
       "      <td>14000US06037980022</td>\n",
       "      <td>0.0</td>\n",
       "    </tr>\n",
       "    <tr>\n",
       "      <th>2482</th>\n",
       "      <td>14000US06037980023</td>\n",
       "      <td>0.0</td>\n",
       "    </tr>\n",
       "    <tr>\n",
       "      <th>2486</th>\n",
       "      <td>14000US06037980028</td>\n",
       "      <td>0.0</td>\n",
       "    </tr>\n",
       "    <tr>\n",
       "      <th>2487</th>\n",
       "      <td>14000US06037980030</td>\n",
       "      <td>0.0</td>\n",
       "    </tr>\n",
       "    <tr>\n",
       "      <th>2493</th>\n",
       "      <td>14000US06037980037</td>\n",
       "      <td>0.0</td>\n",
       "    </tr>\n",
       "    <tr>\n",
       "      <th>2494</th>\n",
       "      <td>14000US06037980038</td>\n",
       "      <td>0.0</td>\n",
       "    </tr>\n",
       "    <tr>\n",
       "      <th>2495</th>\n",
       "      <td>14000US06037980039</td>\n",
       "      <td>0.0</td>\n",
       "    </tr>\n",
       "    <tr>\n",
       "      <th>2496</th>\n",
       "      <td>14000US06037990100</td>\n",
       "      <td>0.0</td>\n",
       "    </tr>\n",
       "    <tr>\n",
       "      <th>2497</th>\n",
       "      <td>14000US06037990200</td>\n",
       "      <td>0.0</td>\n",
       "    </tr>\n",
       "    <tr>\n",
       "      <th>2498</th>\n",
       "      <td>14000US06037990300</td>\n",
       "      <td>0.0</td>\n",
       "    </tr>\n",
       "  </tbody>\n",
       "</table>\n",
       "</div>"
      ],
      "text/plain": [
       "                   geoid  Total\n",
       "2460  14000US06037980001    0.0\n",
       "2461  14000US06037980002    0.0\n",
       "2462  14000US06037980003    0.0\n",
       "2463  14000US06037980004    0.0\n",
       "2464  14000US06037980005    0.0\n",
       "2465  14000US06037980006    0.0\n",
       "2466  14000US06037980007    0.0\n",
       "2472  14000US06037980013    0.0\n",
       "2477  14000US06037980018    0.0\n",
       "2479  14000US06037980020    0.0\n",
       "2481  14000US06037980022    0.0\n",
       "2482  14000US06037980023    0.0\n",
       "2486  14000US06037980028    0.0\n",
       "2487  14000US06037980030    0.0\n",
       "2493  14000US06037980037    0.0\n",
       "2494  14000US06037980038    0.0\n",
       "2495  14000US06037980039    0.0\n",
       "2496  14000US06037990100    0.0\n",
       "2497  14000US06037990200    0.0\n",
       "2498  14000US06037990300    0.0"
      ]
     },
     "execution_count": 54,
     "metadata": {},
     "output_type": "execute_result"
    }
   ],
   "source": [
    "# display it\n",
    "gdf_no_pop[['geoid','Total']]"
   ]
  },
  {
   "cell_type": "markdown",
   "metadata": {
    "slideshow": {
     "slide_type": "slide"
    }
   },
   "source": [
    "## Totals are great but let's normalize the data\n",
    "\n",
    "For almost any data inquiry, you should ask the question: should I normalize the data? With raw numbers, is it fair to compare one census tract to another? For example, if one census tract has 1000 hispanics, and another has 100, can we assume that the first tract is largely Hispanic? No, because the total population might be 10000 people, resulting in it being 10% hispanic, whereas the second tract might have 200 people living in it, resulting in it being 50% hispanic."
   ]
  },
  {
   "cell_type": "markdown",
   "metadata": {
    "slideshow": {
     "slide_type": "slide"
    }
   },
   "source": [
    "To avoid these types of misrepresentations, we can normalize the data, and provide it as a percent of total."
   ]
  },
  {
   "cell_type": "code",
   "execution_count": 55,
   "metadata": {
    "slideshow": {
     "slide_type": "fragment"
    }
   },
   "outputs": [
    {
     "data": {
      "text/plain": [
       "['geoid',\n",
       " 'name',\n",
       " 'Total',\n",
       " 'Non Hispanic',\n",
       " 'Non Hispanic White',\n",
       " 'Non Hispanic Black',\n",
       " 'Non Hispanic American Indian and Alaska Native',\n",
       " 'Non Hispanic Asian',\n",
       " 'Non Hispanic Native Hawaiian and Other Pacific Islander',\n",
       " 'Non Hispanic Some other race',\n",
       " 'Non Hispanic Two or more races',\n",
       " 'Hispanic',\n",
       " 'geometry']"
      ]
     },
     "execution_count": 55,
     "metadata": {},
     "output_type": "execute_result"
    }
   ],
   "source": [
    "# output columns\n",
    "list(gdf)"
   ]
  },
  {
   "cell_type": "code",
   "execution_count": 56,
   "metadata": {
    "slideshow": {
     "slide_type": "slide"
    }
   },
   "outputs": [],
   "source": [
    "# create a new column, and populate it with normalized data to get the percent of total value\n",
    "gdf['Percent Non Hispanic'] = gdf['Non Hispanic']/gdf['Total']*100\n",
    "gdf['Percent Hispanic'] = gdf['Hispanic']/gdf['Total']*100"
   ]
  },
  {
   "cell_type": "code",
   "execution_count": 57,
   "metadata": {
    "slideshow": {
     "slide_type": "fragment"
    }
   },
   "outputs": [
    {
     "data": {
      "text/html": [
       "<div>\n",
       "<style scoped>\n",
       "    .dataframe tbody tr th:only-of-type {\n",
       "        vertical-align: middle;\n",
       "    }\n",
       "\n",
       "    .dataframe tbody tr th {\n",
       "        vertical-align: top;\n",
       "    }\n",
       "\n",
       "    .dataframe thead th {\n",
       "        text-align: right;\n",
       "    }\n",
       "</style>\n",
       "<table border=\"1\" class=\"dataframe\">\n",
       "  <thead>\n",
       "    <tr style=\"text-align: right;\">\n",
       "      <th></th>\n",
       "      <th>geoid</th>\n",
       "      <th>name</th>\n",
       "      <th>Total</th>\n",
       "      <th>Non Hispanic</th>\n",
       "      <th>Non Hispanic White</th>\n",
       "      <th>Non Hispanic Black</th>\n",
       "      <th>Non Hispanic American Indian and Alaska Native</th>\n",
       "      <th>Non Hispanic Asian</th>\n",
       "      <th>Non Hispanic Native Hawaiian and Other Pacific Islander</th>\n",
       "      <th>Non Hispanic Some other race</th>\n",
       "      <th>Non Hispanic Two or more races</th>\n",
       "      <th>Hispanic</th>\n",
       "      <th>geometry</th>\n",
       "      <th>Percent Non Hispanic</th>\n",
       "      <th>Percent Hispanic</th>\n",
       "    </tr>\n",
       "  </thead>\n",
       "  <tbody>\n",
       "    <tr>\n",
       "      <th>1760</th>\n",
       "      <td>14000US06037535902</td>\n",
       "      <td>Census Tract 5359.02, Los Angeles, CA</td>\n",
       "      <td>6227.0</td>\n",
       "      <td>366.0</td>\n",
       "      <td>110.0</td>\n",
       "      <td>44.0</td>\n",
       "      <td>0.0</td>\n",
       "      <td>19.0</td>\n",
       "      <td>112.0</td>\n",
       "      <td>73.0</td>\n",
       "      <td>8.0</td>\n",
       "      <td>5861.0</td>\n",
       "      <td>MULTIPOLYGON (((-118.20267 33.93749, -118.2026...</td>\n",
       "      <td>5.877630</td>\n",
       "      <td>94.122370</td>\n",
       "    </tr>\n",
       "    <tr>\n",
       "      <th>996</th>\n",
       "      <td>14000US06037271703</td>\n",
       "      <td>Census Tract 2717.03, Los Angeles, CA</td>\n",
       "      <td>2673.0</td>\n",
       "      <td>2230.0</td>\n",
       "      <td>1148.0</td>\n",
       "      <td>128.0</td>\n",
       "      <td>0.0</td>\n",
       "      <td>829.0</td>\n",
       "      <td>19.0</td>\n",
       "      <td>10.0</td>\n",
       "      <td>96.0</td>\n",
       "      <td>443.0</td>\n",
       "      <td>MULTIPOLYGON (((-118.42544 34.02863, -118.4252...</td>\n",
       "      <td>83.426861</td>\n",
       "      <td>16.573139</td>\n",
       "    </tr>\n",
       "    <tr>\n",
       "      <th>1018</th>\n",
       "      <td>14000US06037274100</td>\n",
       "      <td>Census Tract 2741, Los Angeles, CA</td>\n",
       "      <td>4323.0</td>\n",
       "      <td>4155.0</td>\n",
       "      <td>2610.0</td>\n",
       "      <td>693.0</td>\n",
       "      <td>0.0</td>\n",
       "      <td>459.0</td>\n",
       "      <td>0.0</td>\n",
       "      <td>0.0</td>\n",
       "      <td>393.0</td>\n",
       "      <td>168.0</td>\n",
       "      <td>MULTIPOLYGON (((-118.45869 33.98795, -118.4585...</td>\n",
       "      <td>96.113810</td>\n",
       "      <td>3.886190</td>\n",
       "    </tr>\n",
       "    <tr>\n",
       "      <th>1970</th>\n",
       "      <td>14000US06037571504</td>\n",
       "      <td>Census Tract 5715.04, Los Angeles, CA</td>\n",
       "      <td>5145.0</td>\n",
       "      <td>3385.0</td>\n",
       "      <td>2092.0</td>\n",
       "      <td>430.0</td>\n",
       "      <td>0.0</td>\n",
       "      <td>666.0</td>\n",
       "      <td>0.0</td>\n",
       "      <td>0.0</td>\n",
       "      <td>197.0</td>\n",
       "      <td>1760.0</td>\n",
       "      <td>MULTIPOLYGON (((-118.17631 33.83581, -118.1762...</td>\n",
       "      <td>65.792031</td>\n",
       "      <td>34.207969</td>\n",
       "    </tr>\n",
       "    <tr>\n",
       "      <th>121</th>\n",
       "      <td>14000US06037115203</td>\n",
       "      <td>Census Tract 1152.03, Los Angeles, CA</td>\n",
       "      <td>2101.0</td>\n",
       "      <td>1107.0</td>\n",
       "      <td>844.0</td>\n",
       "      <td>29.0</td>\n",
       "      <td>31.0</td>\n",
       "      <td>203.0</td>\n",
       "      <td>0.0</td>\n",
       "      <td>0.0</td>\n",
       "      <td>0.0</td>\n",
       "      <td>994.0</td>\n",
       "      <td>MULTIPOLYGON (((-118.53609 34.25001, -118.5358...</td>\n",
       "      <td>52.689196</td>\n",
       "      <td>47.310804</td>\n",
       "    </tr>\n",
       "  </tbody>\n",
       "</table>\n",
       "</div>"
      ],
      "text/plain": [
       "                   geoid                                   name   Total  \\\n",
       "1760  14000US06037535902  Census Tract 5359.02, Los Angeles, CA  6227.0   \n",
       "996   14000US06037271703  Census Tract 2717.03, Los Angeles, CA  2673.0   \n",
       "1018  14000US06037274100     Census Tract 2741, Los Angeles, CA  4323.0   \n",
       "1970  14000US06037571504  Census Tract 5715.04, Los Angeles, CA  5145.0   \n",
       "121   14000US06037115203  Census Tract 1152.03, Los Angeles, CA  2101.0   \n",
       "\n",
       "      Non Hispanic  Non Hispanic White  Non Hispanic Black  \\\n",
       "1760         366.0               110.0                44.0   \n",
       "996         2230.0              1148.0               128.0   \n",
       "1018        4155.0              2610.0               693.0   \n",
       "1970        3385.0              2092.0               430.0   \n",
       "121         1107.0               844.0                29.0   \n",
       "\n",
       "      Non Hispanic American Indian and Alaska Native  Non Hispanic Asian  \\\n",
       "1760                                             0.0                19.0   \n",
       "996                                              0.0               829.0   \n",
       "1018                                             0.0               459.0   \n",
       "1970                                             0.0               666.0   \n",
       "121                                             31.0               203.0   \n",
       "\n",
       "      Non Hispanic Native Hawaiian and Other Pacific Islander  \\\n",
       "1760                                              112.0         \n",
       "996                                                19.0         \n",
       "1018                                                0.0         \n",
       "1970                                                0.0         \n",
       "121                                                 0.0         \n",
       "\n",
       "      Non Hispanic Some other race  Non Hispanic Two or more races  Hispanic  \\\n",
       "1760                          73.0                             8.0    5861.0   \n",
       "996                           10.0                            96.0     443.0   \n",
       "1018                           0.0                           393.0     168.0   \n",
       "1970                           0.0                           197.0    1760.0   \n",
       "121                            0.0                             0.0     994.0   \n",
       "\n",
       "                                               geometry  Percent Non Hispanic  \\\n",
       "1760  MULTIPOLYGON (((-118.20267 33.93749, -118.2026...              5.877630   \n",
       "996   MULTIPOLYGON (((-118.42544 34.02863, -118.4252...             83.426861   \n",
       "1018  MULTIPOLYGON (((-118.45869 33.98795, -118.4585...             96.113810   \n",
       "1970  MULTIPOLYGON (((-118.17631 33.83581, -118.1762...             65.792031   \n",
       "121   MULTIPOLYGON (((-118.53609 34.25001, -118.5358...             52.689196   \n",
       "\n",
       "      Percent Hispanic  \n",
       "1760         94.122370  \n",
       "996          16.573139  \n",
       "1018          3.886190  \n",
       "1970         34.207969  \n",
       "121          47.310804  "
      ]
     },
     "execution_count": 57,
     "metadata": {},
     "output_type": "execute_result"
    }
   ],
   "source": [
    "gdf.sample(5)"
   ]
  },
  {
   "cell_type": "markdown",
   "metadata": {
    "slideshow": {
     "slide_type": "slide"
    }
   },
   "source": [
    "### Now it's your turn!\n",
    "\n",
    "Now it's your turn! Create new columns for \n",
    "- `Percent Non Hispanic White`\n",
    "- `Percent Non Hispanic Black`\n",
    "- `Percent Non Hispanic American Indian and Alaska Native`\n",
    "- `Percent Non Hispanic Asian`\n",
    "- `Percent Non Hispanic Native Hawaiian and Other Pacific Islander`\n",
    "- `Percent Non Hispanic Some other race`\n",
    "- `Percent Non Hispanic Two or more races`"
   ]
  },
  {
   "cell_type": "code",
   "execution_count": null,
   "metadata": {},
   "outputs": [],
   "source": []
  },
  {
   "cell_type": "markdown",
   "metadata": {
    "slideshow": {
     "slide_type": "slide"
    }
   },
   "source": [
    "# Maps!"
   ]
  },
  {
   "cell_type": "markdown",
   "metadata": {
    "slideshow": {
     "slide_type": "slide"
    }
   },
   "source": [
    "We can now create choropleth maps in geopandas. \n",
    "\n",
    "* [geopandas choropleth maps](https://geopandas.org/mapping.html#choropleth-maps)\n",
    "* [color schemes with mapclassify](https://pysal.org/notebooks/viz/mapclassify/intro.html)\n",
    "  * `natural_breaks`\n",
    "  * `equal_interval`\n",
    "  * `quantiles`\n",
    "  * etc..."
   ]
  },
  {
   "cell_type": "code",
   "execution_count": null,
   "metadata": {
    "slideshow": {
     "slide_type": "slide"
    }
   },
   "outputs": [],
   "source": [
    "gdf.plot(figsize=(12,10),\n",
    "                 column='Percent Hispanic',\n",
    "                 legend=True, \n",
    "                 scheme='NaturalBreaks')"
   ]
  },
  {
   "cell_type": "code",
   "execution_count": null,
   "metadata": {
    "slideshow": {
     "slide_type": "slide"
    }
   },
   "outputs": [],
   "source": [
    "gdf.plot(figsize=(12,10),\n",
    "                 column='Percent Hispanic',\n",
    "                 legend=True, \n",
    "                 scheme='equal_interval')"
   ]
  },
  {
   "cell_type": "code",
   "execution_count": null,
   "metadata": {
    "slideshow": {
     "slide_type": "slide"
    }
   },
   "outputs": [],
   "source": [
    "gdf.plot(figsize=(12,10),\n",
    "                 column='Percent Hispanic',\n",
    "                 legend=True, \n",
    "                 scheme='quantiles')"
   ]
  },
  {
   "cell_type": "markdown",
   "metadata": {
    "slideshow": {
     "slide_type": "slide"
    }
   },
   "source": [
    "## Using subplots to create multiple plots\n",
    "\n",
    "It is often useful to generate multiple plots next to each other. To do so, we look at matplotlib's `subplot` command:\n",
    "\n",
    "- https://matplotlib.org/3.3.3/api/_as_gen/matplotlib.pyplot.subplots.html"
   ]
  },
  {
   "cell_type": "code",
   "execution_count": null,
   "metadata": {
    "slideshow": {
     "slide_type": "slide"
    }
   },
   "outputs": [],
   "source": [
    "# create the 1x2 subplots\n",
    "fig, axs = plt.subplots(1, 2, figsize=(15, 12))\n",
    "\n",
    "# name each subplot\n",
    "ax1, ax2 = axs\n",
    "\n",
    "# regular count map on the left\n",
    "gdf.plot(column='Percent Hispanic', \n",
    "            cmap='RdYlGn_r', \n",
    "            scheme='quantiles',\n",
    "            k=5, \n",
    "            edgecolor='white', \n",
    "            linewidth=0., \n",
    "            alpha=0.75, \n",
    "            ax=ax1, # this assigns the map to the subplot,\n",
    "            legend=True\n",
    "           )\n",
    "\n",
    "ax1.axis(\"off\")\n",
    "ax1.set_title(\"Percent Hispanic\")\n",
    "\n",
    "# spatial lag map on the right\n",
    "gdf.plot(column='Percent Non Hispanic Black', \n",
    "            cmap='RdYlGn_r', \n",
    "            scheme='quantiles',\n",
    "            k=5, \n",
    "            edgecolor='white', \n",
    "            linewidth=0., \n",
    "            alpha=0.75, \n",
    "            ax=ax2, # this assigns the map to the subplot\n",
    "            legend=True\n",
    "           )\n",
    "\n",
    "ax2.axis(\"off\")\n",
    "ax2.set_title(\"Percent Non Hispanic Black\")"
   ]
  },
  {
   "cell_type": "markdown",
   "metadata": {
    "slideshow": {
     "slide_type": "slide"
    }
   },
   "source": [
    "<div class=\"alert alert-info\">\n",
    "\n",
    "Now it's your turn! Create map plots based on other race indicators. Experiment with the different schemes to display variations of the same data, mapped differently.\n",
    "\n",
    "</div>"
   ]
  },
  {
   "cell_type": "code",
   "execution_count": null,
   "metadata": {},
   "outputs": [],
   "source": []
  },
  {
   "cell_type": "markdown",
   "metadata": {
    "slideshow": {
     "slide_type": "slide"
    }
   },
   "source": [
    "## Additional mapping ideas\n",
    "What does the majority ethnic cluster look like in Los Angeles?"
   ]
  },
  {
   "cell_type": "code",
   "execution_count": null,
   "metadata": {},
   "outputs": [],
   "source": [
    "gdf[gdf['Percent Hispanic'] > 80]"
   ]
  },
  {
   "cell_type": "code",
   "execution_count": null,
   "metadata": {
    "slideshow": {
     "slide_type": "slide"
    }
   },
   "outputs": [],
   "source": [
    "gdf[gdf['Percent Hispanic'] > 90].plot(figsize=(12,10))"
   ]
  },
  {
   "cell_type": "markdown",
   "metadata": {
    "slideshow": {
     "slide_type": "slide"
    }
   },
   "source": [
    "<div class=\"alert alert-info\">\n",
    "\n",
    "Now it's your turn! Create map plots based on other race indicators with varying segments of the population.\n",
    "\n",
    "</div>"
   ]
  },
  {
   "cell_type": "code",
   "execution_count": null,
   "metadata": {},
   "outputs": [],
   "source": []
  },
  {
   "cell_type": "markdown",
   "metadata": {
    "slideshow": {
     "slide_type": "slide"
    }
   },
   "source": [
    "## Add a basemap\n",
    "\n",
    "Adding a basemap to a geopandas plot can be done using the [contextily library](https://contextily.readthedocs.io/en/latest/intro_guide.html). To do so, you must:\n",
    "\n",
    "* reproject your geodataframe to Web Mercator (epsg: 3857)\n",
    "* add a basemap, use the following [guidelines](https://github.com/geopandas/contextily/blob/master/notebooks/providers_deepdive.ipynb)"
   ]
  },
  {
   "cell_type": "markdown",
   "metadata": {
    "slideshow": {
     "slide_type": "slide"
    }
   },
   "source": [
    "### Project to web mercator\n",
    "\n",
    "![projections](https://www.esri.com/arcgis-blog/wp-content/uploads/2022/02/grid2.png)\n",
    "\n",
    "In order to conduct spatial analysis, it is recommended to use a projected coordinate system, rather than a geographic coordinate system (which uses angular measurements). Here is an [blog post from ESRI](https://www.esri.com/arcgis-blog/products/arcgis-pro/mapping/gcs_vs_pcs/) that describes the differences between the two."
   ]
  },
  {
   "cell_type": "code",
   "execution_count": null,
   "metadata": {
    "slideshow": {
     "slide_type": "slide"
    }
   },
   "outputs": [],
   "source": [
    "# reproject to Web Mercator\n",
    "gdf_web_mercator = gdf.to_crs(epsg=3857)\n",
    "gdf_web_mercator"
   ]
  },
  {
   "cell_type": "code",
   "execution_count": null,
   "metadata": {
    "slideshow": {
     "slide_type": "slide"
    }
   },
   "outputs": [],
   "source": [
    "# use subplots that make it easier to create multiple layered maps\n",
    "fig, ax = plt.subplots(figsize=(15, 15))\n",
    "\n",
    "# add the layer with ax=ax in the argument \n",
    "gdf_web_mercator[gdf_web_mercator['Percent Hispanic'] > 50].plot(ax=ax, alpha=0.8)\n",
    "\n",
    "# turn the axis off\n",
    "ax.axis('off')\n",
    "\n",
    "# set a title\n",
    "ax.set_title('Census Tracts with more than 50% Hispanic Population',fontsize=16)\n",
    "\n",
    "# add a basemap\n",
    "ctx.add_basemap(ax)"
   ]
  }
 ],
 "metadata": {
  "kernelspec": {
   "display_name": "Python 3 (ipykernel)",
   "language": "python",
   "name": "python3"
  },
  "language_info": {
   "codemirror_mode": {
    "name": "ipython",
    "version": 3
   },
   "file_extension": ".py",
   "mimetype": "text/x-python",
   "name": "python",
   "nbconvert_exporter": "python",
   "pygments_lexer": "ipython3",
   "version": "3.8.10"
  },
  "toc": {
   "base_numbering": 1,
   "nav_menu": {},
   "number_sections": true,
   "sideBar": true,
   "skip_h1_title": false,
   "title_cell": "Table of Contents",
   "title_sidebar": "Contents",
   "toc_cell": true,
   "toc_position": {
    "height": "calc(100% - 180px)",
    "left": "10px",
    "top": "150px",
    "width": "350.797px"
   },
   "toc_section_display": true,
   "toc_window_display": false
  }
 },
 "nbformat": 4,
 "nbformat_minor": 4
}
